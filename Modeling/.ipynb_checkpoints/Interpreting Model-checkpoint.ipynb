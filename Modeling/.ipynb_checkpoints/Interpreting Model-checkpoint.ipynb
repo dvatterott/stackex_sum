{
 "cells": [
  {
   "cell_type": "code",
   "execution_count": 3,
   "metadata": {
    "collapsed": false
   },
   "outputs": [],
   "source": [
    "import stackexchange\n",
    "\n",
    "api_key = '5*wCDZgONnIJ*aiaYeKjQQ(('\n",
    "\n",
    "so = stackexchange.Site(stackexchange.StackOverflow,api_key)\n",
    "so.be_inclusive()\n",
    "so.impose_throttling = True\n",
    "so.throttle_stop = False\n",
    "\n",
    "from bs4 import BeautifulSoup\n",
    "from nltk.tokenize import RegexpTokenizer\n",
    "from nltk.corpus import stopwords\n",
    "from nltk.stem.porter import PorterStemmer\n",
    "from nltk import sent_tokenize\n",
    "\n",
    "url = 'http://stackoverflow.com/questions/3501382/checking-whether-a-variable-is-an-integer-or-not'\n",
    "q_id = [3501382]\n",
    "question = so.question(q_id)\n",
    "\n",
    "p_stemmer = PorterStemmer()\n",
    "tokenizer = RegexpTokenizer('\\w+')"
   ]
  },
  {
   "cell_type": "code",
   "execution_count": 73,
   "metadata": {
    "collapsed": false
   },
   "outputs": [
    {
     "name": "stdout",
     "output_type": "stream",
     "text": [
      "Gimme that overflow!\n"
     ]
    }
   ],
   "source": [
    "from keras.preprocessing.sequence import pad_sequences\n",
    "from keras.preprocessing.text import text_to_word_sequence, Tokenizer\n",
    "from keras.layers import Dense, Input, GRU, Embedding\n",
    "from keras.models import Model\n",
    "import six.moves.cPickle as cPickle\n",
    "\n",
    "MAX_SEQUENCE_LENGTH = 200\n",
    "EMBEDDING_DIM = 300\n",
    "word_index_length = 374000\n",
    "\n",
    "embedding_layer = Embedding(word_index_length + 1,\n",
    "                            EMBEDDING_DIM,\n",
    "                            input_length=MAX_SEQUENCE_LENGTH,\n",
    "                            trainable=False)\n",
    "\n",
    "sequence_input = Input(shape=(MAX_SEQUENCE_LENGTH,), dtype='int32')\n",
    "embedded_sequences = embedding_layer(sequence_input)\n",
    "x = GRU(128, dropout_W=0.2, dropout_U=0.2)(embedded_sequences)\n",
    "preds = Dense(2, activation='softmax')(x)\n",
    "\n",
    "mymodel = Model(sequence_input, preds)\n",
    "mymodel.compile(loss='categorical_crossentropy',\n",
    "              optimizer='adam',\n",
    "              metrics=['acc'])\n",
    "mymodel.load_weights('../Data_and_Models/stackex_gru.h5')\n",
    "print('Gimme that overflow!')\n",
    "vectorizer = cPickle.load(open('../Data_and_Models/rnn_tokenizer.pkl', 'rb'), encoding='latin1')\n",
    "lg = mymodel"
   ]
  },
  {
   "cell_type": "code",
   "execution_count": 131,
   "metadata": {
    "collapsed": true
   },
   "outputs": [],
   "source": [
    "import numpy as np\n",
    "\n",
    "def fetch_and_clean(text,model_prep=False):\n",
    "    raw = BeautifulSoup(text, \"lxml\").get_text()\n",
    "    raw = raw.lower()\n",
    "\n",
    "    if model_prep == False:\n",
    "        tokens = text_to_word_sequence(raw)\n",
    "    elif model_prep == True:\n",
    "        tokens = tokenizer.tokenize(raw)\n",
    "        tokens = [word for word in tokens if not word.isdigit()]\n",
    "        tokens = [word for word in tokens if word not in stopwords.words('english')]\n",
    "        tokens = [p_stemmer.stem(i) for i in tokens]\n",
    "    return tokens\n",
    "\n",
    "def sentences_tokenization(text):\n",
    "    raw = BeautifulSoup(text, \"lxml\").get_text()\n",
    "    raw = raw.lower()\n",
    "    sentences = sent_tokenize(raw)\n",
    "    return sentences\n",
    "\n",
    "def sentences_or_not(text, sentences=True):\n",
    "    if sentences == False:\n",
    "        output = fetch_and_clean(text)\n",
    "    else:\n",
    "        output = sentences_tokenization(text)\n",
    "    return output\n",
    "\n",
    "def get_answer_Info(question):\n",
    "    answers_dict = {}\n",
    "    text_source = question.json\n",
    "\n",
    "    if 'comments' in text_source.keys():\n",
    "        answer_id = -1\n",
    "        for text in text_source['comments']:\n",
    "            answer_id += 1\n",
    "            temp_dict = {}\n",
    "            temp_dict['tokens'] = sentences_or_not(text['body'])\n",
    "            temp_dict['raw'] = text['body']\n",
    "            temp_dict['score'] = text['score']\n",
    "            answers_dict[answer_id] = temp_dict\n",
    "    else:\n",
    "        answer_id = -1\n",
    "\n",
    "    if 'answers' in text_source.keys():\n",
    "        for text in text_source['answers']:\n",
    "            answer_id += 1\n",
    "            temp_dict = {}\n",
    "            temp_dict['tokens'] = sentences_or_not(text['body'])\n",
    "            temp_dict['raw'] = [text['body']]\n",
    "            temp_dict['score'] = text['score']\n",
    "\n",
    "            if 'comments' in text.keys():\n",
    "                for comments in text['comments']:\n",
    "                    temp_dict['tokens'].extend(sentences_or_not(comments['body']))\n",
    "                    temp_dict['raw'].extend(comments['body']) #was extend\n",
    "                    temp_dict['score'] += comments['score']\n",
    "\n",
    "            temp_dict['raw'] = ''.join(temp_dict['raw'])\n",
    "            answers_dict[answer_id] = temp_dict\n",
    "\n",
    "    return answers_dict\n",
    "    \n",
    "def find_helpful_sentences(answers_dict, help_threshold=0.0,print_on=False):\n",
    "    new_answer_dict = answers_dict\n",
    "    answers = []\n",
    "    sent = []\n",
    "\n",
    "    for keys in new_answer_dict:\n",
    "        a_dict = new_answer_dict[keys]\n",
    "        a_vect = a_dict['tokens']\n",
    "        a_raw = a_dict['raw']\n",
    "        just_tok = [fetch_and_clean(x,model_prep=False) for x in a_vect]\n",
    "\n",
    "        #print(just_tok)\n",
    "        just_tok = [vectorizer.texts_to_sequences(x) for x in just_tok]\n",
    "        temp = []\n",
    "        for items in just_tok: temp.append([x[0] for x in items if len(x)>0])\n",
    "        just_tok = temp\n",
    "\n",
    "        padded_seq = pad_sequences(just_tok,maxlen=MAX_SEQUENCE_LENGTH)\n",
    "        seq = np.array(padded_seq)\n",
    "        \n",
    "        y_pred = lg.predict(seq)\n",
    "        y_pred = y_pred[:,1] - y_pred[:,0]\n",
    "        \n",
    "        sent.append(a_vect)\n",
    "        answers.append(y_pred)\n",
    "\n",
    "    return (sent, answers)"
   ]
  },
  {
   "cell_type": "code",
   "execution_count": 132,
   "metadata": {
    "collapsed": false
   },
   "outputs": [],
   "source": [
    "answers_dict = get_answer_Info(question)\n",
    "(sent, answers) = find_helpful_sentences(answers_dict)"
   ]
  },
  {
   "cell_type": "code",
   "execution_count": 133,
   "metadata": {
    "collapsed": false
   },
   "outputs": [],
   "source": [
    "from sklearn.pipeline import make_pipeline\n",
    "from sklearn.base import BaseEstimator, TransformerMixin\n",
    "\n",
    "class MyRNN(BaseEstimator, TransformerMixin):\n",
    "    def __init__(self, lg):\n",
    "        self.lg = lg\n",
    "\n",
    "    def predict(self, a_vect):\n",
    "        just_tok = [fetch_and_clean(x,model_prep=False) for x in a_vect]\n",
    "        just_tok = [vectorizer.texts_to_sequences(x) for x in just_tok]\n",
    "        temp = []\n",
    "        for items in just_tok: temp.append([x[0] for x in items if len(x)>0])\n",
    "        just_tok = temp\n",
    "\n",
    "        padded_seq = pad_sequences(just_tok,maxlen=MAX_SEQUENCE_LENGTH)\n",
    "        seq = np.array(padded_seq)\n",
    "        \n",
    "        return self.lg.predict(seq)"
   ]
  },
  {
   "cell_type": "code",
   "execution_count": 138,
   "metadata": {
    "collapsed": false
   },
   "outputs": [
    {
     "data": {
      "text/plain": [
       "array([[ 0.84269243,  0.15730758],\n",
       "       [ 0.78681147,  0.2131885 ]], dtype=float32)"
      ]
     },
     "execution_count": 138,
     "metadata": {},
     "output_type": "execute_result"
    }
   ],
   "source": [
    "RNN = MyRNN(lg)"
   ]
  },
  {
   "cell_type": "code",
   "execution_count": 141,
   "metadata": {
    "collapsed": false
   },
   "outputs": [
    {
     "data": {
      "text/plain": [
       "'@hulk: you seem to be under the impression that type is the right way to do this.'"
      ]
     },
     "execution_count": 141,
     "metadata": {},
     "output_type": "execute_result"
    }
   ],
   "source": [
    "sent[1][0]"
   ]
  },
  {
   "cell_type": "code",
   "execution_count": 143,
   "metadata": {
    "collapsed": false
   },
   "outputs": [],
   "source": [
    "sent_out = [item for sublist in sent for item in sublist]"
   ]
  },
  {
   "cell_type": "code",
   "execution_count": 150,
   "metadata": {
    "collapsed": false
   },
   "outputs": [
    {
     "data": {
      "text/plain": [
       "array([[ 0.76623845,  0.23376152]], dtype=float32)"
      ]
     },
     "execution_count": 150,
     "metadata": {},
     "output_type": "execute_result"
    }
   ],
   "source": [
    "RNN.predict([sent_out[0]])"
   ]
  },
  {
   "cell_type": "code",
   "execution_count": 158,
   "metadata": {
    "collapsed": false
   },
   "outputs": [
    {
     "name": "stdout",
     "output_type": "stream",
     "text": [
      "134\n"
     ]
    }
   ],
   "source": [
    "for i,items in enumerate(sent_out):\n",
    "    if items == ':)':\n",
    "        print(i)\n",
    "        break"
   ]
  },
  {
   "cell_type": "code",
   "execution_count": 160,
   "metadata": {
    "collapsed": false
   },
   "outputs": [
    {
     "name": "stderr",
     "output_type": "stream",
     "text": [
      "/home/dan-laptop/anaconda3/envs/insight/lib/python3.5/re.py:203: FutureWarning: split() requires a non-empty pattern match.\n",
      "  return _compile(pattern, flags).split(string, maxsplit)\n"
     ]
    },
    {
     "name": "stdout",
     "output_type": "stream",
     "text": [
      "what if the code still works (incorrectly) with non-ints, though, and that's what i'm trying to prevent?\n",
      "Probability(helpful) = 0.0291237\n",
      "you dismiss @scottgriffiths counterexample which, if valid, disproves your \"never\", with 'that's the only counter example.\n",
      "Probability(helpful) = 0.297613\n",
      "that's why i said \"never\"'.\n",
      "Probability(helpful) = 0.057842\n",
      "seriously?\n",
      "Probability(helpful) = 0.120377\n",
      "do you realize you're baiting people and wasting their time?\n",
      "Probability(helpful) = 0.276034\n",
      "if you really need to check then it's better to use abstract base classes rather than concrete classes.\n",
      "Probability(helpful) = 0.212959\n",
      "for an integer that would mean:\n",
      ">>> import numbers\n",
      ">>> isinstance(3, numbers.integral)\n",
      "true\n",
      "\n",
      "this doesn't restrict the check to just int, or just int and long, but also allows other user-defined types that behave as integers to work.\n",
      "\n",
      "Probability(helpful) = 0.474277\n",
      "isinstance(fraction(5,1), numbers.integral) → false.\n",
      "Probability(helpful) = 0.402151\n",
      "is that right?\n",
      "Probability(helpful) = 0.0728775\n",
      "@endolith: my answer (and the others) say whether the variable's type is an integer rather than if the variable itself could be converted to an integer without losing information.\n",
      "Probability(helpful) = 0.0974106\n",
      "so yes your example is false, in the same way as checking the 'integerness' of 5.00 would be.\n",
      "Probability(helpful) = 0.155206\n",
      "... but i suppose you could also do an 'is this object exactly representable as an integer' test along the lines of type(f)(int(f)) == f.\n",
      "Probability(helpful) = 0.167176\n",
      "isinstance(x, (type(1), type(2**32))) would work in both py 2.x and 3.x -- no abc class necessary.\n",
      "Probability(helpful) = 0.395285\n",
      "@martineau: but that method doesn't get user-defined integer types which is the point of using the abstract base class.\n",
      "Probability(helpful) = 0.0434182\n",
      "testing for particular numbers is definitely a hack - the obvious point to make is that the numbers you've chosen won't work for 64-bit python 2.x.\n",
      "Probability(helpful) = 0.24353\n",
      "isinstance() returns true if its first argument is an instance of or the second or is a direct, indirect or virtual subclass thereof.\n",
      "Probability(helpful) = 0.549369\n",
      "as for 64-bit, just use at least type(2**64) for the second argument which would work with both 32- and 64-bit python.\n",
      "Probability(helpful) = 0.141286\n",
      "@martineau: but the type might not be a subclass of int, it might just represent integer numbers.\n",
      "Probability(helpful) = 0.0820303\n",
      "an example would be the numpy int16 type.\n",
      "Probability(helpful) = 0.210896\n",
      "now admittedly this doesn't use the abc either, but it could if it wanted to say it's an integer type of object but didn't want actually be an int.\n",
      "Probability(helpful) = 0.188049\n",
      "oh and wait until they make a 128-bit python build :)\n",
      "Probability(helpful) = 0.0249897\n",
      "hmmm...maybe s.lott is right and doing any type-checking is absolutely wrong.\n",
      "Probability(helpful) = 0.0877092\n",
      "however if one insists on doing it using isinstance(), it is possible to arbitrarily make any class an abc subclass as illustrated in this very interesting answer.\n",
      "Probability(helpful) = 0.305972\n",
      "isinstance(true, numbers.integral) return true.\n",
      "Probability(helpful) = 0.510633\n",
      "should it though?\n",
      "Probability(helpful) = 0.0558654\n",
      "@leonid: yes it should.\n",
      "Probability(helpful) = 0.0196529\n",
      "true and false really are integers in python -  issubclass(bool, int) also returns true.\n",
      "Probability(helpful) = 0.462299\n",
      "does not work for numpy.int32 integers!\n",
      "Probability(helpful) = 0.301025\n",
      "oddly, it does work for numpy.int64 integers.\n",
      "Probability(helpful) = 0.24918\n",
      "this is especially good method for numpy integers!\n",
      "Probability(helpful) = 0.287838\n",
      "all proposed answers so far seem to miss the fact that a double (floats in python are actually doubles) can also be an integer (if it has nothing after the decimal point).\n",
      "Probability(helpful) = 0.34638\n",
      "i use the built-in is_integer() method on doubles to check this.\n",
      "Probability(helpful) = 0.0279447\n",
      "example (to do something every xth time in a for loop):\n",
      "for index in range(y): \n",
      "    # do something\n",
      "    if (index/x.\n",
      "Probability(helpful) = 0.328238\n",
      ").is_integer():\n",
      "        # do something special\n",
      "\n",
      "edit:\n",
      "you can always convert to a float before calling this method.\n",
      "Probability(helpful) = 0.35605\n",
      "the three possibilities:\n",
      ">>> float(5).is_integer()\n",
      "true\n",
      ">>> float(5.1).is_integer()\n",
      "false\n",
      ">>> float(5.0).is_integer()\n",
      "true\n",
      "\n",
      "otherwise, you could check if it is an int first like agostino said:\n",
      "def is_int(val):\n",
      "    if type(val) == int:\n",
      "        return true\n",
      "    else:\n",
      "        if val.is_integer():\n",
      "            return true\n",
      "        else:\n",
      "            return false\n",
      "\n",
      "\n",
      "Probability(helpful) = 0.639136\n",
      "do you have a link to documentation for this is_integer function?\n",
      "Probability(helpful) = 0.206937\n",
      "i can't find one.\n",
      "Probability(helpful) = 0.0416198\n",
      "there is not much, but here is the official documentation: docs.python.org/2/library/stdtypes.html#float.is_integer\n",
      "Probability(helpful) = 0.190241\n",
      "that's good to know.\n",
      "Probability(helpful) = 0.121613\n",
      "although, it's a float method, so it's not a general-purpose function that can be applied to any type to determine whether it's an integer.\n",
      "Probability(helpful) = 0.332127\n",
      "first check if it's an int (or a long), then check if it's a float and, if it is, check if is_integer() is true.\n",
      "Probability(helpful) = 0.208374\n",
      "notice that there is no long type in python 3.\n",
      "Probability(helpful) = 0.204112\n",
      "if the variable is entered like a string (e.g.\n",
      "Probability(helpful) = 0.165397\n",
      "'2010'): \n",
      "if variable and variable.isdigit():\n",
      "    return variable #or whatever you want to do with it.\n",
      "Probability(helpful) = 0.292921\n",
      "else: \n",
      "    return \"error\" #or whatever you want to do with it.\n",
      "Probability(helpful) = 0.255781\n",
      "before using this i worked it out with try/except and checking for (int(variable)), but it was longer code.\n",
      "Probability(helpful) = 0.0356127\n",
      "i wonder if there's any difference in use of resources or speed.\n",
      "\n",
      "Probability(helpful) = 0.113871\n",
      "this won't handle \"-3\", for example.\n",
      "Probability(helpful) = 0.106093\n",
      "you are right dsm\n",
      "Probability(helpful) = 0.102179\n",
      "why not just check if the value you want to check is equal to itself cast as an integer as shown below?\n",
      "Probability(helpful) = 0.265775\n",
      "def isint(val):\n",
      "    return val == int(val)\n",
      "\n",
      "\n",
      "Probability(helpful) = 0.175468\n",
      "need to enclose (or replace) the test with a try/except block, or it will throw exception if val is, for example, 'a'\n",
      "Probability(helpful) = 0.161567\n",
      "could replace with return val == int(val), and the exception block is needed as mestrelion mentions.\n",
      "Probability(helpful) = 0.151517\n",
      "this answer has a trailing : that is erroneous on the second line.\n",
      "Probability(helpful) = 0.139242\n",
      "the only solution so far they works for numpy integers too!\n",
      "Probability(helpful) = 0.125394\n",
      "if you want to check that a string consists of only digits, but converting to an int won't help, you can always just use regex.\n",
      "Probability(helpful) = 0.180314\n",
      "import re\n",
      "x = \"01234\"\n",
      "match = re.search(\"^\\d+$\", x)\n",
      "try: x = match.group(0)\n",
      "except attributeerror: print(\"not a valid number\")\n",
      "\n",
      "result: x == \"01234\"\n",
      "\n",
      "in this case, if x were \"hello\", converting it to a numeric type would throw a valueerror, but data would also be lost in the process.\n",
      "Probability(helpful) = 0.154495\n",
      "using a regex and catching an attributeerror would allow you to confirm numeric characters in a string with, for instance, leading 0's.\n",
      "Probability(helpful) = 0.226521\n",
      "if you didn't want it to throw an attributeerror, but instead just wanted to look for more specific problems, you could vary the regex and just check the match:\n",
      "import re\n",
      "x = \"h01234\"\n",
      "match = re.search(\"\\d\", x)\n",
      "if not match:\n",
      "    print(\"x is a number\")\n",
      "else:\n",
      "    print(\"encountered a problem at character:\", match.group(0))\n",
      "\n",
      "result: \"encountered a problem at character: h\"\n",
      "\n",
      "that actually shows you where the problem occurred without the use of exceptions.\n",
      "Probability(helpful) = 0.381888\n",
      "again, this is not for testing the type, but rather the characters themselves.\n",
      "Probability(helpful) = 0.0872947\n",
      "this gives you much more flexibility than simply checking for types, especially when converting between types can lose important string data, like leading 0's.\n",
      "\n",
      "Probability(helpful) = 0.15854\n",
      "no need for regex to do that: all(ch in set(string.digits) for ch in x), but as pointed out elsewhere on this page, it's a bad method anyway.\n",
      "Probability(helpful) = 0.257839\n",
      "use the int function to help\n",
      "intchecker = float(input('please enter a integer: '))\n",
      "intcheck = 0\n",
      "while intcheck != 1:\n",
      "    if intchecker - int(intchecker) > 0:\n",
      "        intchecker = float(input(\"you didn't enter a integer. \"\n",
      "Probability(helpful) = 0.431884\n",
      "\"please enter a integer: \"))\n",
      "    else:\n",
      "        intcheck = 1\n",
      "print('you have entered a integer')\n",
      "\n",
      "\n",
      "Probability(helpful) = 0.285739\n",
      "i was writing a program to check if a number was square and i encountered this issue, the \n",
      "code i used was:\n",
      "import math\n",
      "print (\"this program will tell you if a number is square\")\n",
      "print (\"enter an integer\")\n",
      "num = float(input())\n",
      "if num > 0:\n",
      "    print (\"ok!\")\n",
      "Probability(helpful) = 0.0813171\n",
      "num = (math.sqrt(num))\n",
      "    inter = int(num)\n",
      "    if num == inter:\n",
      "            print (\"it's a square number, and its root is\")\n",
      "            print (num)\n",
      "    else:\n",
      "            print (\"it's not a square number, but its root is\")\n",
      "            print (num)\n",
      "else:\n",
      "    print (\"that's not a positive number!\")\n",
      "Probability(helpful) = 0.180176\n",
      "to tell if the number was an integer i converted the float number you get from square rooting the user input to a rounded integer (stored as the value ), if those two numbers were equal then the first number must have been an integer, allowing the program to respond.\n",
      "Probability(helpful) = 0.138669\n",
      "this may not be the shortest way of doing this but it worked for me. \n",
      "\n",
      "Probability(helpful) = 0.217743\n",
      "that doesn't seem like a correct algorithm, since it will fail for integers bigger than what a float mantissa can hold.\n",
      "Probability(helpful) = 0.390322\n",
      "try it with 12345678901234567890123456789012 (which is not a square) and see if it gives the right answer.\n",
      "Probability(helpful) = 0.140791\n",
      "you should implement an integer square root algorithm instead.\n",
      "Probability(helpful) = 0.356063\n",
      "see this question regarding integer square roots.\n",
      "Probability(helpful) = 0.243264\n",
      "why not try something like:\n",
      "if x%1 == 0: \n",
      "\n",
      "\n",
      "Probability(helpful) = 0.485127\n",
      "-1 because this is not code i would want to see in production or by my teammates.\n",
      "Probability(helpful) = 0.0511922\n",
      "it hides your intention.\n",
      "Probability(helpful) = 0.19153\n",
      "most of the other answers here are much more explicit and should be preferred.\n",
      "Probability(helpful) = 0.154193\n",
      "@dennis: but this works also for floats with decimal part equal to zero.\n",
      "Probability(helpful) = 0.0365847\n",
      "you can wrap it in a function and it will be explicit.\n",
      "Probability(helpful) = 0.311926\n",
      "you can do this by:\n",
      "name = 'bob'\n",
      "if type(name) == str:\n",
      "    print 'this works'\n",
      "else:\n",
      "    print 'this does not work'\n",
      "\n",
      "and it will return 'this works'... but if you change name to int(1) then it will return 'this does not work' because it is now a string...\n",
      "you can also try:\n",
      "name = int(5)\n",
      "if type(name) == int:\n",
      "    print 'this works'\n",
      "else:\n",
      "    print 'this does not work'\n",
      "\n",
      "and the same thing will happen\n",
      "\n",
      "Probability(helpful) = 0.465447\n",
      "there is another option to do the type check.\n",
      "Probability(helpful) = 0.0707407\n",
      "for example:\n",
      "  n = 14\n",
      "  if type(n)==int:\n",
      "  return \"this is an int\"\n",
      "\n",
      "\n",
      "Probability(helpful) = 0.242852\n",
      "if you just need the value, operator.index (__index__ special method) is the way to go in my opinion.\n",
      "Probability(helpful) = 0.17153\n",
      "since it should work for all types that can be safely cast to an integer.\n",
      "Probability(helpful) = 0.151278\n"
     ]
    },
    {
     "name": "stderr",
     "output_type": "stream",
     "text": [
      "/home/dan-laptop/anaconda3/envs/insight/lib/python3.5/site-packages/bs4/__init__.py:219: UserWarning: \"b'..'\" looks like a filename, not markup. You shouldprobably open this file and pass the filehandle intoBeautiful Soup.\n",
      "  'Beautiful Soup.' % markup)\n"
     ]
    },
    {
     "name": "stdout",
     "output_type": "stream",
     "text": [
      "i.e.\n",
      "Probability(helpful) = 0.0651213\n",
      "floats fail, integers, even fancy integer classes that do not implement the integral abstract class work by duck typing.\n",
      "Probability(helpful) = 0.453544\n",
      "operator.index is what is used for list indexing, etc.\n",
      "Probability(helpful) = 0.354848\n",
      "and in my opinion it should be used for much more/promoted.\n",
      "Probability(helpful) = 0.0194111\n",
      "in fact i would argue it is the only correct way to get integer values if you want to be certain that floating points, due to truncating problems, etc.\n",
      "Probability(helpful) = 0.116086\n",
      "are rejected and it works with all integral types (i.e.\n",
      "Probability(helpful) = 0.0604989\n",
      "numpy, etc.)\n",
      "Probability(helpful) = 0.313445\n",
      "even if they may not (yet) support the abstract class.\n",
      "Probability(helpful) = 0.122394\n",
      "this is what __index__ was introduced for!\n",
      "\n",
      "Probability(helpful) = 0.260654\n",
      "seems to be just the thing.\n",
      "Probability(helpful) = 0.106007\n",
      "odd thing though: it accepts true and false but doesn't map them to 1 and 0, it returns the same value (using py2.7).\n",
      "Probability(helpful) = 0.0614183\n",
      "it could be that's because bool is a subclass of int and that's considered good enough for an index.\n",
      "Probability(helpful) = 0.21217\n",
      "you can always do int(operator.index(x)) to ensure a real int.\n",
      "Probability(helpful) = 0.393839\n",
      "it's really astounding to see such a heated discussion coming up when such a basic, valid and, i believe, mundane question is being asked.\n",
      "Probability(helpful) = 0.0960452\n",
      "some people have pointed out that type-checking against int (and long) might loose cases where a big decimal number is encountered.\n",
      "Probability(helpful) = 0.172644\n",
      "quite right.\n",
      "Probability(helpful) = 0.0713371\n",
      "some people have pointed out that you should 'just do x + 1 and see whether that fails.\n",
      "Probability(helpful) = 0.297398\n",
      "well, for one thing, this works on floats too, and, on the other hand, it's easy to construct a class that is definitely not very numeric, yet defines the + operator in some way.\n",
      "Probability(helpful) = 0.255303\n",
      "i am at odds with many posts vigorously declaring that you should not check for types.\n",
      "Probability(helpful) = 0.0473274\n",
      "well, gvr once said something to the effect that in pure theory, that may be right, but in practice, isinstance often serves a useful purpose (that's a while ago, don't have the link; you can read what gvr says about related issues in posts like this one).\n",
      "Probability(helpful) = 0.122941\n",
      "what is funny is how many people seem to assume that the op's intent was to check whether the type of a given x is a numerical integer type—what i understood is what i normally mean when using the op's words: whether x represents an integer number.\n",
      "Probability(helpful) = 0.129742\n",
      "and this can be very important: like ask someone how many items they'd want to pick, you may want to check you get a non-negative integer number back.\n",
      "Probability(helpful) = 0.214591\n",
      "use cases like this abound.\n",
      "Probability(helpful) = 0.145083\n",
      "it's also, in my opinion, important to see that (1) type checking is but one—and often quite coarse—measure of program correctness, because (2) it is often bounded values that make sense, and out-of-bounds values that make nonsense.\n",
      "Probability(helpful) = 0.0806153\n",
      "sometimes just some intermittent values make sense—like considering all numbers, only those real (non-complex), integer numbers might be possible in a given case.\n",
      "Probability(helpful) = 0.176557\n",
      "funny non-one seems to mention checking for x == math.floor( x ).\n",
      "Probability(helpful) = 0.211351\n",
      "if that should give an error with some big decimal class, well, then maybe it's time to re-think oop paradigms.\n",
      "Probability(helpful) = 0.169862\n",
      "there is also pep 357 that considers how to use not-so-obviously-int-but-certainly-integer-like values to be used as list indices.\n",
      "Probability(helpful) = 0.210903\n",
      "not sure whether i like the solution.\n",
      "\n",
      "Probability(helpful) = 0.0132646\n",
      "some of the use cases for such a test involve treating an integer as a special case; for that, you can just be prepared for x==math.floor(x)  or x == int(x) to raise an exception, and then treat that as \"no\".\n",
      "Probability(helpful) = 0.363383\n",
      "but other use cases involve wanting to get an early, clearer exception rather than a more confusing one later, when a non-integer parameter just doesn't make sense.\n",
      "Probability(helpful) = 0.120653\n",
      "we have an assortment of answers to this question, for different use cases.\n",
      "Probability(helpful) = 0.164763\n",
      "a simple method i use in all my software is this.\n",
      "Probability(helpful) = 0.0318294\n",
      "it checks whether the variable is made up of numbers.\n",
      "Probability(helpful) = 0.107204\n",
      "test = input(\"enter some text here: \")\n",
      "if test.isdigit() == true:\n",
      "   print(\"this is a number.\")\n",
      "Probability(helpful) = 0.225802\n",
      "else:\n",
      "   print(\"this is not a number.\")\n",
      "Probability(helpful) = 0.310703\n",
      "this works for vars that are strings, but crashes for vars that are already digits (isdigit() is a string method in python).\n",
      "Probability(helpful) = 0.154187\n",
      "if you want to check with no regard for python version (2.x vs 3.x), use six (pypi) and it's integer_types attribute:\n",
      "import six\n",
      "\n",
      "if isinstance(obj, six.integer_types):\n",
      "    print('obj is an integer!')\n",
      "Probability(helpful) = 0.318701\n",
      "within six (a very light-weight single-file module), it's simply doing this:\n",
      "import sys\n",
      "py3 = sys.version_info[0] == 3\n",
      "\n",
      "if py3:\n",
      "    integer_types = int,\n",
      "else:\n",
      "    integer_types = (int, long)\n",
      "\n",
      "\n",
      "Probability(helpful) = 0.291632\n",
      "you can do this.\n",
      "Probability(helpful) = 0.108563\n",
      "if type(x) is int:\n",
      "\n",
      "\n",
      "Probability(helpful) = 0.317447\n",
      "consider the case x = n**(1.0/m), where n=10**5, m=5.\n",
      "Probability(helpful) = 0.369689\n",
      "in python, x will be 10.000000000000002, which is only not integer because of floating point arithmetic operations.\n",
      "Probability(helpful) = 0.440014\n",
      "so i'd check\n",
      "if str(float(x)).endswith('.0'): print \"it's an integer.\"\n",
      "Probability(helpful) = 0.2405\n",
      "i've tested it with this code:\n",
      "for a in range(2,100):\n",
      "    for b in range(2,100):\n",
      "        x = (a**b)**(1.0/b)\n",
      "        print a,b, x, str(float(x)).endswith('.0')\n",
      "\n",
      "it outputs true for all a and b.\n",
      "\n",
      "Probability(helpful) = 0.30054\n",
      "seems like thin ice.\n",
      "Probability(helpful) = 0.0670493\n",
      "the behaviour of str(float) has changed in the past, in ways that could affect this.\n",
      "Probability(helpful) = 0.15256\n",
      "in any case the number is not equal to 10, just close enough for 'str' to call it.\n",
      "Probability(helpful) = 0.127027\n",
      "you could check abs(x-round(x)) if you are ok with rounding fuzz.\n",
      "Probability(helpful) = 0.316889\n",
      "#######################################\n",
      "# value_is_int\n",
      "#######################################\n",
      "def value_is_int(value):\n",
      "    try:\n",
      "        tempval = int(value)\n",
      "        return true\n",
      "    except:\n",
      "        return false\n",
      "\n",
      "call this function:\n",
      "if value_is_int(value):\n",
      "    print \"integer\"\n",
      "else:\n",
      "    print \"not integer\"\n",
      "\n",
      "\n",
      "Probability(helpful) = 0.389149\n",
      "i can check if the number is integer include number like 7.0\n",
      "def is_int(x):\n",
      "    if x - round(x) == 0 :\n",
      "        return true\n",
      "    else:\n",
      "        return false\n",
      "\n",
      "\n",
      "Probability(helpful) = 0.137785\n",
      "#!/usr/bin/env python\n",
      "\n",
      "import re\n",
      "\n",
      "def is_int(x):\n",
      "\n",
      "    if(isinstance(x,(int,long))):\n",
      "\n",
      "        return true\n",
      "    matchobj = re.match(r'^-?\\d+\\.\n",
      "Probability(helpful) = 0.262897\n",
      "(\\d+)',str(x))\n",
      "\n",
      "        if matchobj:\n",
      "\n",
      "        x = matchobj.group(1)\n",
      "\n",
      "        if int(x)-0==0:\n",
      "\n",
      "            return true\n",
      "\n",
      "     return false\n",
      "\n",
      "print is_int(6)\n",
      "\n",
      "print is_int(1.0)\n",
      "\n",
      "print is_int(1.1)\n",
      "\n",
      "print is_int(0.1)\n",
      "\n",
      "print is_int(-956.0)\n",
      "\n",
      "\n",
      "Probability(helpful) = 0.349718\n",
      "rather than over complicate things, why not just a simple\n",
      "if type(var) is int:\n",
      "\n",
      "\n",
      "Probability(helpful) = 0.290785\n",
      "wonderful answer!\n",
      "Probability(helpful) = 0.0449828\n",
      "it's simple and clear!\n",
      "Probability(helpful) = 0.177182\n",
      "don't use type() as it won't always work, use isinstance() instead.\n",
      "Probability(helpful) = 0.562687\n",
      "see the answer above stackoverflow.com/a/3501408/2574719\n",
      "Probability(helpful) = 0.0646715\n",
      "if type(input('enter = '))==int:\n",
      "     print 'entered number is an integer'\n",
      "else:\n",
      "     print 'entered number isn't an integer'\n",
      "\n",
      "this'll work to check out whether number is an integer or not \n",
      "\n",
      "Probability(helpful) = 0.235817\n",
      "import numpy as np\n",
      "\n",
      "if (np.floor(x)-x == 0):\n",
      "  return \"this is an int\"\n",
      "\n",
      "\n",
      "Probability(helpful) = 0.314702\n",
      "if you have not int you can do just this:\n",
      "var = 15.4\n",
      "if(var - int(var) != 0):\n",
      "    print \"value is not integer\"\n",
      "\n",
      "\n",
      "Probability(helpful) = 0.337093\n",
      "this will not work if the variable is for example a string.\n",
      "Probability(helpful) = 0.160683\n",
      "you would need to catch the exception, etc.\n",
      "Probability(helpful) = 0.21693\n",
      "better see stackoverflow.com/a/3501408/2574719\n",
      "Probability(helpful) = 0.0772029\n",
      "a simple way to do this is to directly check if the remainder on division by 1 is 0 or not.\n",
      "Probability(helpful) = 0.246948\n",
      "if this_variable % 1 == 0:\n",
      "    list.append(this_variable)\n",
      "else:\n",
      "    print 'not an integer!'\n",
      "Probability(helpful) = 0.19192\n",
      "this will not work if the variable is for example a string.\n",
      "Probability(helpful) = 0.160683\n",
      "you would need to catch the exception, etc.\n",
      "Probability(helpful) = 0.21693\n",
      "better see stackoverflow.com/a/3501408/2574719\n",
      "Probability(helpful) = 0.0772029\n",
      "you can use this function:\n",
      "def is_int(x):    \n",
      "    if type(x) == int:\n",
      "       return true\n",
      "    return false\n",
      "\n",
      "test:\n",
      "print is_int('7.0') # false\n",
      "print is_int(7.0) # false\n",
      "print is_int(7.5) # false\n",
      "print is_int(-1) # true\n",
      "\n",
      "\n",
      "Probability(helpful) = 0.583336\n",
      "don't use type(), use isinstance(), see the answer above stackoverflow.com/a/3501408/2574719\n",
      "Probability(helpful) = 0.37724\n",
      "if you want to write a python 2-3 compatible code\n",
      "to test whether a value is an integer (of any kind), you can to do this :\n",
      "# python 2 and 3: \n",
      "import sys\n",
      "if sys.version_info < (3,):\n",
      "    integer_types = (int, long,)\n",
      "else:\n",
      "    integer_types = (int,)\n",
      "\n",
      ">>> isinstance(1, integer_types)\n",
      "true\n",
      "\n",
      "# python 2 only:\n",
      "if isinstance(x, (int, long)):\n",
      "     ...\n",
      "\n",
      "# python 3 only:\n",
      "if isinstance(x, int):\n",
      "    ...\n",
      "\n",
      "source : http://python3porting.com/differences.html\n",
      "\n",
      "Probability(helpful) = 0.517249\n",
      "a more general approach that will attempt to check for both integers and integers given as strings will be\n",
      "def isint(anynumberorstring):\n",
      "    try:\n",
      "        int(anynumberorstring) #to check float and int use \"float(anynumberorstring)\"\n",
      "        return true\n",
      "    except valueerror :\n",
      "        return false\n",
      "\n",
      "isint(\"a\") #false\n",
      "isint(\"5\") #true\n",
      "isint(8) #true\n",
      "isint(\"5.88\") #false *see comment above on how to make this true\n",
      "\n",
      "\n",
      "Probability(helpful) = 0.510659\n",
      "in the presence of numpy check like\n",
      "isinstance(var, (int, long, np.integer))\n",
      "\n",
      "for matching all type variants like np.int8, np.uint16, ...\n",
      "drop long in py3.\n",
      "Probability(helpful) = 0.355173\n",
      "recognizing any integer-like object from anywhere is a tricky guessing game.\n",
      "Probability(helpful) = 0.140589\n",
      "checking \n",
      "var & 0 == 0 \n",
      "\n",
      "for truth and non-exception may be a good bet.\n",
      "Probability(helpful) = 0.190953\n",
      "similarly, for signed integers only:\n",
      "var ^ -1 ==  -var - 1\n",
      "\n",
      "\n",
      "Probability(helpful) = 0.362099\n",
      "here is a simple example how you can determine an integer\n",
      "def is_int(x):\n",
      "    print round(x),\n",
      "    if x == round(x):\n",
      "        print 'true',\n",
      "    else:\n",
      "        print 'false'\n",
      "\n",
      "is_int(7.0)   # true\n",
      "is_int(7.5)   # false\n",
      "is_int(-1)    # true    \n",
      "\n",
      "\n",
      "Probability(helpful) = 0.487636\n",
      "i've had this problem before, if your type to use it in a if statement, and let's just say you wanted it to return true, you would enter this into a line, (the bottom line in all that is really needed to be looked at): \n",
      "in [1]: test = 1\n",
      "\n",
      "in [2]: test2 = 1.0\n",
      "\n",
      "in [3]: type(test) == int\n",
      "out[3]: true\n",
      "\n",
      "in [4]: type(test2) == int\n",
      "out[4]: false\n",
      "\n",
      "in [5]: if type(x) == int is true:\n",
      "\n",
      "you can do the same thing to check if it's a float, if it's true or false, and use to assign a name, (like x if you know what i mean.)\n",
      "Probability(helpful) = 0.413725\n",
      "what does your answer add to existing answers?\n",
      "Probability(helpful) = 0.0394312\n",
      "if type(x) == int is true is terribly wrong, i.e.\n",
      "Probability(helpful) = 0.426848\n",
      "it will always evaluate to false.\n",
      "Probability(helpful) = 0.186041\n",
      "if you are reading from a file and you have an array or dictionary with values of multiple datatypes, the following will be useful.\n",
      "Probability(helpful) = 0.14288\n",
      "just check whether the variable can be type casted to int(or any other datatype you want to enforce) or not.\n",
      "Probability(helpful) = 0.123731\n",
      "try :\n",
      "    int(a);\n",
      "    #variable a is int\n",
      "except valueerror : \n",
      "    # variable a is not an int\n",
      "\n",
      "\n",
      "Probability(helpful) = 0.351182\n"
     ]
    }
   ],
   "source": [
    "class_names = ['unhelpful', 'helpful']\n",
    "from lime.lime_text import LimeTextExplainer\n",
    "explainer = LimeTextExplainer(class_names=class_names)\n",
    "\n",
    "RNN = MyRNN(lg)\n",
    "#word_dict = {}\n",
    "\n",
    "for items in sent_out[135:]:\n",
    "    exp = explainer.explain_instance(items, RNN.predict, num_features=6)\n",
    "    print(items)\n",
    "    print('Probability(helpful) =', RNN.predict([items])[0,1])\n",
    "    word_list = exp.as_list()\n",
    "    for words in word_list:\n",
    "        if words[0] in word_dict.keys():\n",
    "            word_dict[words[0]] = np.append(word_dict[words[0]],words[1])\n",
    "        else:\n",
    "            word_dict[words[0]] = words[1]"
   ]
  },
  {
   "cell_type": "code",
   "execution_count": 161,
   "metadata": {
    "collapsed": false
   },
   "outputs": [
    {
     "data": {
      "text/plain": [
       "516"
      ]
     },
     "execution_count": 161,
     "metadata": {},
     "output_type": "execute_result"
    }
   ],
   "source": [
    "len(word_dict)"
   ]
  },
  {
   "cell_type": "code",
   "execution_count": null,
   "metadata": {
    "collapsed": true
   },
   "outputs": [],
   "source": [
    "import pickle\n",
    "\n",
    "name = 'lime_dict'"
   ]
  },
  {
   "cell_type": "code",
   "execution_count": 174,
   "metadata": {
    "collapsed": false
   },
   "outputs": [],
   "source": [
    "with open('./'+ name + '.pkl', 'wb') as f:\n",
    "    pickle.dump(word_dict, f, pickle.HIGHEST_PROTOCOL)"
   ]
  },
  {
   "cell_type": "code",
   "execution_count": 186,
   "metadata": {
    "collapsed": false
   },
   "outputs": [],
   "source": [
    "with open('./' + name + '.pkl', 'rb') as f:\n",
    "    word_dict = pickle.load(f)"
   ]
  },
  {
   "cell_type": "code",
   "execution_count": 187,
   "metadata": {
    "collapsed": false
   },
   "outputs": [],
   "source": [
    "num_wanted = 20\n",
    "imp_word_dict = {}\n",
    "\n",
    "for i in range(num_wanted):\n",
    "    max_key = max(word_dict.keys(), key=(lambda x: abs(np.mean(word_dict[x]))))\n",
    "    imp_word_dict[max_key] = np.mean(word_dict[max_key])\n",
    "    word_dict.pop(max_key, None)"
   ]
  },
  {
   "cell_type": "code",
   "execution_count": 188,
   "metadata": {
    "collapsed": false
   },
   "outputs": [
    {
     "data": {
      "text/plain": [
       "{'again': -0.093089059733018828,\n",
       " 'bool': 0.087759564874848595,\n",
       " 'classes': 0.13413944682057938,\n",
       " 'concrete': -0.093464568384320573,\n",
       " 'consider': 0.098667942178613827,\n",
       " 'glad': -0.11133475232810838,\n",
       " 'i': -0.093848591709584331,\n",
       " 'int32': 0.091093118269160805,\n",
       " 'is_integer': 0.10907147336080465,\n",
       " 'isinstance': 0.13722364641677015,\n",
       " 'iterable': 0.089119085435905673,\n",
       " 'link': -0.088746006112689804,\n",
       " 'martineau': -0.088881735896748137,\n",
       " 'num': -0.099353389230151398,\n",
       " 'perfect': 0.09596927225912999,\n",
       " 'pythonic': 0.11194637263746457,\n",
       " 'scott': -0.097653000063070927,\n",
       " 'still': -0.10429664762535992,\n",
       " 'thanks': -0.089778173961556129,\n",
       " 'this_variable': -0.10020771436170887}"
      ]
     },
     "execution_count": 188,
     "metadata": {},
     "output_type": "execute_result"
    }
   ],
   "source": [
    "imp_word_dict"
   ]
  },
  {
   "cell_type": "code",
   "execution_count": 192,
   "metadata": {
    "collapsed": false
   },
   "outputs": [
    {
     "data": {
      "image/png": "[encoded data removed]",
      "text/plain": [
       "<matplotlib.figure.Figure at 0x7f20d4e85198>"
      ]
     },
     "metadata": {},
     "output_type": "display_data"
    }
   ],
   "source": [
    "import matplotlib.pyplot as plt\n",
    "\n",
    "sorted_x = sorted(imp_word_dict.items(), key=lambda x: x[1])\n",
    "sorted_x = sorted_x.reverse()\n",
    "\n",
    "plt.bar(range(len(imp_word_dict)), imp_word_dict.values())\n",
    "plt.xticks(range(len(imp_word_dict)), imp_word_dict.keys(), rotation='vertical')\n",
    "\n",
    "plt.show()"
   ]
  },
  {
   "cell_type": "code",
   "execution_count": 117,
   "metadata": {
    "collapsed": false
   },
   "outputs": [
    {
     "data": {
      "text/plain": [
       "['@hulk: you seem to be under the impression that type is the right way to do this.',\n",
       " 'it is (almost certainly) not.']"
      ]
     },
     "execution_count": 117,
     "metadata": {},
     "output_type": "execute_result"
    }
   ],
   "source": [
    "items"
   ]
  },
  {
   "cell_type": "code",
   "execution_count": 114,
   "metadata": {
    "collapsed": false
   },
   "outputs": [
    {
     "data": {
      "text/plain": [
       "{'canonical': 0.033773051465441559,\n",
       " 'check': -0.071724063087750436,\n",
       " 'duplicate': 0.039175234219797961,\n",
       " 'possible': -0.024375775445865035,\n",
       " 'python': 0.023019418089235359,\n",
       " 's': 0.026437705602720015,\n",
       " 'seem': 0.023015186501761417,\n",
       " 'that': -0.0129267123790195,\n",
       " 'this': -0.036796228488811485,\n",
       " 'to': -0.01281247016068549,\n",
       " 'way': 0.01404254601200421,\n",
       " 'you': 0.056372161126580327}"
      ]
     },
     "execution_count": 114,
     "metadata": {},
     "output_type": "execute_result"
    }
   ],
   "source": [
    "word_dict"
   ]
  },
  {
   "cell_type": "markdown",
   "metadata": {},
   "source": [
    "## checking out what the data lime wants"
   ]
  },
  {
   "cell_type": "code",
   "execution_count": 55,
   "metadata": {
    "collapsed": false
   },
   "outputs": [
    {
     "name": "stderr",
     "output_type": "stream",
     "text": [
      "Downloading dataset from http://people.csail.mit.edu/jrennie/20Newsgroups/20news-bydate.tar.gz (14 MB)\n"
     ]
    },
    {
     "data": {
      "text/plain": [
       "'From: johnchad@triton.unm.edu (jchadwic)\\nSubject: Another request for Darwin Fish\\nOrganization: University of New Mexico, Albuquerque\\nLines: 11\\nNNTP-Posting-Host: triton.unm.edu\\n\\nHello Gang,\\n\\nThere have been some notes recently asking where to obtain the DARWIN fish.\\nThis is the same question I have and I have not seen an answer on the\\nnet. If anyone has a contact please post on the net or email me.\\n\\nThanks,\\n\\njohn chadwick\\njohnchad@triton.unm.edu\\nor\\n'"
      ]
     },
     "execution_count": 55,
     "metadata": {},
     "output_type": "execute_result"
    }
   ],
   "source": [
    "#http://marcotcr.github.io/lime/tutorials/Lime%20-%20basic%20usage%2C%20two%20class%20case.html\n",
    "from sklearn.datasets import fetch_20newsgroups\n",
    "categories = ['alt.atheism', 'soc.religion.christian']\n",
    "newsgroups_train = fetch_20newsgroups(subset='train', categories=categories)\n",
    "newsgroups_test = fetch_20newsgroups(subset='test', categories=categories)\n",
    "class_names = ['atheism', 'christian']\n",
    "newsgroups_test.data[83]"
   ]
  },
  {
   "cell_type": "code",
   "execution_count": 71,
   "metadata": {
    "collapsed": false
   },
   "outputs": [
    {
     "name": "stdout",
     "output_type": "stream",
     "text": [
      "[[ 0.29  0.71]]\n"
     ]
    },
    {
     "name": "stderr",
     "output_type": "stream",
     "text": [
      "/home/dan-laptop/anaconda3/envs/insight/lib/python3.5/re.py:203: FutureWarning: split() requires a non-empty pattern match.\n",
      "  return _compile(pattern, flags).split(string, maxsplit)\n"
     ]
    },
    {
     "name": "stdout",
     "output_type": "stream",
     "text": [
      "Document id: 83\n",
      "Probability(christian) = 0.446\n",
      "True class: unhelpful\n"
     ]
    }
   ],
   "source": [
    "import lime\n",
    "import sklearn\n",
    "import numpy as np\n",
    "import sklearn\n",
    "import sklearn.ensemble\n",
    "import sklearn.metrics\n",
    "from __future__ import print_function\n",
    "\n",
    "vectorizer = sklearn.feature_extraction.text.TfidfVectorizer(lowercase=False)\n",
    "train_vectors = vectorizer.fit_transform(newsgroups_train.data)\n",
    "test_vectors = vectorizer.transform(newsgroups_test.data)\n",
    "\n",
    "rf = sklearn.ensemble.RandomForestClassifier(n_estimators=500)\n",
    "rf.fit(train_vectors, newsgroups_train.target)\n",
    "\n",
    "from lime import lime_text\n",
    "from sklearn.pipeline import make_pipeline\n",
    "c = make_pipeline(vectorizer, rf)\n",
    "\n",
    "print(c.predict_proba([newsgroups_test.data[0]]))\n",
    "\n",
    "from lime.lime_text import LimeTextExplainer\n",
    "explainer = LimeTextExplainer(class_names=class_names)\n",
    "\n",
    "idx = 83\n",
    "exp = explainer.explain_instance(newsgroups_test.data[idx], c.predict_proba, num_features=6)\n",
    "print('Document id: %d' % idx)\n",
    "print('Probability(christian) =', c.predict_proba([newsgroups_test.data[idx]])[0,1])\n",
    "print('True class: %s' % class_names[newsgroups_test.target[idx]])\n"
   ]
  },
  {
   "cell_type": "code",
   "execution_count": null,
   "metadata": {
    "collapsed": true
   },
   "outputs": [],
   "source": []
  }
 ],
 "metadata": {
  "anaconda-cloud": {},
  "kernelspec": {
   "display_name": "Python [conda env:insight]",
   "language": "python",
   "name": "conda-env-insight-py"
  },
  "language_info": {
   "codemirror_mode": {
    "name": "ipython",
    "version": 3
   },
   "file_extension": ".py",
   "mimetype": "text/x-python",
   "name": "python",
   "nbconvert_exporter": "python",
   "pygments_lexer": "ipython3",
   "version": "3.5.2"
  }
 },
 "nbformat": 4,
 "nbformat_minor": 1
}
