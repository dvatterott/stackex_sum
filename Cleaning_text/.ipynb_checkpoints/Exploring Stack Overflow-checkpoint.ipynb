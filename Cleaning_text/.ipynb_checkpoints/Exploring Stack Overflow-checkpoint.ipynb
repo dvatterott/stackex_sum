{
 "cells": [
  {
   "cell_type": "markdown",
   "metadata": {},
   "source": [
    "## Import Libraries and get stockoverflow library set up to make api requests"
   ]
  },
  {
   "cell_type": "code",
   "execution_count": 1,
   "metadata": {
    "collapsed": true
   },
   "outputs": [],
   "source": [
    "import stackexchange\n",
    "import seaborn as sns\n",
    "import matplotlib.pyplot as plt\n",
    "import pandas as pd\n",
    "\n",
    "password = os.environ['SO_PASSWORD']\n",
    "\n",
    "so = stackexchange.Site(stackexchange.StackOverflow,api_key)\n",
    "so.be_inclusive()\n",
    "so.impose_throttling = True\n",
    "so.throttle_stop = False"
   ]
  },
  {
   "cell_type": "markdown",
   "metadata": {},
   "source": [
    "## Looking at a specific question"
   ]
  },
  {
   "cell_type": "code",
   "execution_count": 1,
   "metadata": {
    "collapsed": false
   },
   "outputs": [
    {
     "name": "stderr",
     "output_type": "stream",
     "text": [
      "Using TensorFlow backend.\n"
     ]
    }
   ],
   "source": [
    "from StackExchange_Query import *"
   ]
  },
  {
   "cell_type": "code",
   "execution_count": 373,
   "metadata": {
    "collapsed": false
   },
   "outputs": [],
   "source": [
    "rawtext_dict = {}\n",
    "text_dict = {}\n",
    "data = []\n",
    "\n",
    "Data_file = open('Python_StackOverflow_Data.csv', 'w')\n",
    "Txt_file = open('Python_StackOverflow_Txt.csv', 'w')\n",
    "\n",
    "for i,question in enumerate(so.questions(tagged=['python'], pagesize=10)):\n",
    "    StackObj = acquire_SO_question_info(question,search=False)\n",
    "    StackObj.get_sources()\n",
    "\n",
    "    Data_file.write(\"%d,%d,%d,%s\\n\" % (StackObj.id, StackObj.score, StackObj.view_count, StackObj.url))\n",
    "    Txt_file.write(\"%d,%s\\n\" % (StackObj.id, StackObj.tokens))\n",
    "\n",
    "    if i % 1000==0: print(i)\n",
    "\n",
    "Data_file.close()\n",
    "Data_file.close()"
   ]
  }
 ],
 "metadata": {
  "anaconda-cloud": {},
  "kernelspec": {
   "display_name": "Python [conda env:insight]",
   "language": "python",
   "name": "conda-env-insight-py"
  },
  "language_info": {
   "codemirror_mode": {
    "name": "ipython",
    "version": 3
   },
   "file_extension": ".py",
   "mimetype": "text/x-python",
   "name": "python",
   "nbconvert_exporter": "python",
   "pygments_lexer": "ipython3",
   "version": "3.5.2"
  }
 },
 "nbformat": 4,
 "nbformat_minor": 1
}
