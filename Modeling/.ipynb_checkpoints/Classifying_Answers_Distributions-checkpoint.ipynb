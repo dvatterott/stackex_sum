{
 "cells": [
  {
   "cell_type": "markdown",
   "metadata": {},
   "source": [
    "## Load the data"
   ]
  },
  {
   "cell_type": "code",
   "execution_count": 1,
   "metadata": {
    "collapsed": false
   },
   "outputs": [],
   "source": [
    "############## create sql table ################\n",
    "from sqlalchemy import create_engine\n",
    "from sqlalchemy_utils import database_exists, create_database\n",
    "import psycopg2\n",
    "\n",
    "dbname = 'stack_exchange_rnn_db'\n",
    "q_tbname = 'question_table'\n",
    "a_tbname = 'answer_table'\n",
    "username = 'dan-laptop'\n",
    "import os\n",
    "password = os.environ['PGRES_PASSWORD']\n",
    "\n",
    "engine = create_engine('postgresql://%s:%s@localhost:5432/%s'%(username,password,dbname))\n",
    "\n",
    "## Now access sql db from python\n",
    "con = None\n",
    "connect_str = \"dbname='%s' user='%s' host='localhost' password='%s'\"%(dbname,username,password)\n",
    "con = psycopg2.connect(connect_str)\n",
    "cur = con.cursor() #create cursor for communicating with sql"
   ]
  },
  {
   "cell_type": "markdown",
   "metadata": {},
   "source": [
    "almost 88k questions which is a little over 1/2 the python questions asked in 2015..."
   ]
  },
  {
   "cell_type": "code",
   "execution_count": 3,
   "metadata": {
    "collapsed": false
   },
   "outputs": [
    {
     "data": {
      "text/html": [
       "<div>\n",
       "<table border=\"1\" class=\"dataframe\">\n",
       "  <thead>\n",
       "    <tr style=\"text-align: right;\">\n",
       "      <th></th>\n",
       "      <th>q_id</th>\n",
       "      <th>view_count</th>\n",
       "      <th>score</th>\n",
       "    </tr>\n",
       "  </thead>\n",
       "  <tbody>\n",
       "    <tr>\n",
       "      <th>0</th>\n",
       "      <td>33660178</td>\n",
       "      <td>94</td>\n",
       "      <td>0</td>\n",
       "    </tr>\n",
       "    <tr>\n",
       "      <th>1</th>\n",
       "      <td>29972894</td>\n",
       "      <td>2859</td>\n",
       "      <td>0</td>\n",
       "    </tr>\n",
       "    <tr>\n",
       "      <th>2</th>\n",
       "      <td>32276493</td>\n",
       "      <td>8166</td>\n",
       "      <td>11</td>\n",
       "    </tr>\n",
       "    <tr>\n",
       "      <th>3</th>\n",
       "      <td>32586454</td>\n",
       "      <td>2936</td>\n",
       "      <td>-2</td>\n",
       "    </tr>\n",
       "    <tr>\n",
       "      <th>4</th>\n",
       "      <td>28136104</td>\n",
       "      <td>3748</td>\n",
       "      <td>4</td>\n",
       "    </tr>\n",
       "  </tbody>\n",
       "</table>\n",
       "</div>"
      ],
      "text/plain": [
       "       q_id  view_count  score\n",
       "0  33660178          94      0\n",
       "1  29972894        2859      0\n",
       "2  32276493        8166     11\n",
       "3  32586454        2936     -2\n",
       "4  28136104        3748      4"
      ]
     },
     "execution_count": 3,
     "metadata": {},
     "output_type": "execute_result"
    }
   ],
   "source": [
    "import pandas as pd\n",
    "################# make query ########################\n",
    "sql_query = 'SELECT q_id, view_count,score FROM question_table;'\n",
    "question_df = pd.read_sql_query(sql_query,con)\n",
    "question_df.head()"
   ]
  },
  {
   "cell_type": "code",
   "execution_count": 4,
   "metadata": {
    "collapsed": false
   },
   "outputs": [],
   "source": [
    "sql_query = 'SELECT * FROM question_table;'\n",
    "question_df = pd.read_sql_query(sql_query,con)\n",
    "question_df.to_csv('question_db.csv')\n",
    "\n",
    "sql_query = 'SELECT * FROM answer_table;'\n",
    "question_df = pd.read_sql_query(sql_query,con)\n",
    "question_df.to_csv('answer_db.csv')"
   ]
  },
  {
   "cell_type": "code",
   "execution_count": 5,
   "metadata": {
    "collapsed": false
   },
   "outputs": [
    {
     "data": {
      "text/html": [
       "<div>\n",
       "<table border=\"1\" class=\"dataframe\">\n",
       "  <thead>\n",
       "    <tr style=\"text-align: right;\">\n",
       "      <th></th>\n",
       "      <th>id</th>\n",
       "      <th>a_id</th>\n",
       "      <th>q_id</th>\n",
       "      <th>word_vec</th>\n",
       "      <th>score</th>\n",
       "    </tr>\n",
       "  </thead>\n",
       "  <tbody>\n",
       "    <tr>\n",
       "      <th>0</th>\n",
       "      <td>1</td>\n",
       "      <td>0</td>\n",
       "      <td>33660178</td>\n",
       "      <td>the,error,object,may,read,from,the,network,net...</td>\n",
       "      <td>0</td>\n",
       "    </tr>\n",
       "    <tr>\n",
       "      <th>1</th>\n",
       "      <td>2</td>\n",
       "      <td>1</td>\n",
       "      <td>33660178</td>\n",
       "      <td>this,is,what,i,did,worked,for,me,when,reading,...</td>\n",
       "      <td>0</td>\n",
       "    </tr>\n",
       "    <tr>\n",
       "      <th>2</th>\n",
       "      <td>3</td>\n",
       "      <td>0</td>\n",
       "      <td>29972894</td>\n",
       "      <td>possible,duplicate,stackoverflow,com,questions...</td>\n",
       "      <td>0</td>\n",
       "    </tr>\n",
       "    <tr>\n",
       "      <th>3</th>\n",
       "      <td>4</td>\n",
       "      <td>1</td>\n",
       "      <td>29972894</td>\n",
       "      <td>you,are,looking,for,idxmax,in,1332,x,out,1332,...</td>\n",
       "      <td>2</td>\n",
       "    </tr>\n",
       "    <tr>\n",
       "      <th>4</th>\n",
       "      <td>5</td>\n",
       "      <td>2</td>\n",
       "      <td>29972894</td>\n",
       "      <td>x,max,x,max,x,max,axis,1,max,index,this,works,...</td>\n",
       "      <td>0</td>\n",
       "    </tr>\n",
       "  </tbody>\n",
       "</table>\n",
       "</div>"
      ],
      "text/plain": [
       "   id  a_id      q_id                                           word_vec  \\\n",
       "0   1     0  33660178  the,error,object,may,read,from,the,network,net...   \n",
       "1   2     1  33660178  this,is,what,i,did,worked,for,me,when,reading,...   \n",
       "2   3     0  29972894  possible,duplicate,stackoverflow,com,questions...   \n",
       "3   4     1  29972894  you,are,looking,for,idxmax,in,1332,x,out,1332,...   \n",
       "4   5     2  29972894  x,max,x,max,x,max,axis,1,max,index,this,works,...   \n",
       "\n",
       "   score  \n",
       "0      0  \n",
       "1      0  \n",
       "2      0  \n",
       "3      2  \n",
       "4      0  "
      ]
     },
     "execution_count": 5,
     "metadata": {},
     "output_type": "execute_result"
    }
   ],
   "source": [
    "question_df.head()"
   ]
  },
  {
   "cell_type": "markdown",
   "metadata": {},
   "source": [
    "## Explore View Count"
   ]
  },
  {
   "cell_type": "code",
   "execution_count": 4,
   "metadata": {
    "collapsed": false
   },
   "outputs": [
    {
     "data": {
      "text/plain": [
       "138286"
      ]
     },
     "execution_count": 4,
     "metadata": {},
     "output_type": "execute_result"
    }
   ],
   "source": [
    "len(question_df)"
   ]
  },
  {
   "cell_type": "code",
   "execution_count": 5,
   "metadata": {
    "collapsed": false
   },
   "outputs": [
    {
     "name": "stdout",
     "output_type": "stream",
     "text": [
      "138286\n"
     ]
    }
   ],
   "source": [
    "print(len(question_df.view_count))"
   ]
  },
  {
   "cell_type": "code",
   "execution_count": 6,
   "metadata": {
    "collapsed": false
   },
   "outputs": [
    {
     "name": "stdout",
     "output_type": "stream",
     "text": [
      "433072\n"
     ]
    }
   ],
   "source": [
    "print(question_df.view_count.max())"
   ]
  },
  {
   "cell_type": "code",
   "execution_count": 7,
   "metadata": {
    "collapsed": false
   },
   "outputs": [
    {
     "name": "stdout",
     "output_type": "stream",
     "text": [
      "5\n"
     ]
    }
   ],
   "source": [
    "print(question_df.view_count.min())"
   ]
  },
  {
   "cell_type": "code",
   "execution_count": 8,
   "metadata": {
    "collapsed": false
   },
   "outputs": [
    {
     "name": "stdout",
     "output_type": "stream",
     "text": [
      "75058\n"
     ]
    }
   ],
   "source": [
    "print(sum(question_df.view_count>100))"
   ]
  },
  {
   "cell_type": "code",
   "execution_count": 9,
   "metadata": {
    "collapsed": false
   },
   "outputs": [
    {
     "data": {
      "image/png": "[encoded data removed]",
      "text/plain": [
       "<matplotlib.figure.Figure at 0x7f6cbbe30588>"
      ]
     },
     "metadata": {},
     "output_type": "display_data"
    }
   ],
   "source": [
    "import matplotlib\n",
    "import matplotlib.pyplot as plt\n",
    "%matplotlib inline\n",
    "\n",
    "question_df[question_df['view_count']<500]['view_count'].hist();"
   ]
  },
  {
   "cell_type": "code",
   "execution_count": 10,
   "metadata": {
    "collapsed": false
   },
   "outputs": [
    {
     "data": {
      "text/plain": [
       "0.20320205949987707"
      ]
     },
     "execution_count": 10,
     "metadata": {},
     "output_type": "execute_result"
    }
   ],
   "source": [
    "import numpy as np\n",
    "np.sum(question_df['view_count']<51)/len(question_df['view_count'])"
   ]
  },
  {
   "cell_type": "code",
   "execution_count": 11,
   "metadata": {
    "collapsed": false
   },
   "outputs": [
    {
     "name": "stdout",
     "output_type": "stream",
     "text": [
      "(499225, 2)\n"
     ]
    }
   ],
   "source": [
    "################# make query ########################\n",
    "sql_query = 'SELECT word_vec,score FROM answer_table;'\n",
    "question_df = pd.read_sql_query(sql_query,con)\n",
    "print(question_df.shape)"
   ]
  },
  {
   "cell_type": "code",
   "execution_count": 12,
   "metadata": {
    "collapsed": false
   },
   "outputs": [
    {
     "name": "stdout",
     "output_type": "stream",
     "text": [
      "(411190, 2)\n"
     ]
    },
    {
     "data": {
      "text/html": [
       "<div>\n",
       "<table border=\"1\" class=\"dataframe\">\n",
       "  <thead>\n",
       "    <tr style=\"text-align: right;\">\n",
       "      <th></th>\n",
       "      <th>word_vec</th>\n",
       "      <th>score</th>\n",
       "    </tr>\n",
       "  </thead>\n",
       "  <tbody>\n",
       "    <tr>\n",
       "      <th>0</th>\n",
       "      <td>you,need,to,define,a,badge,model,as,well,and,d...</td>\n",
       "      <td>3</td>\n",
       "    </tr>\n",
       "    <tr>\n",
       "      <th>1</th>\n",
       "      <td>you,can,read,a,large,file,one,line,at,a,time,i...</td>\n",
       "      <td>1</td>\n",
       "    </tr>\n",
       "    <tr>\n",
       "      <th>2</th>\n",
       "      <td>this,would,be,eaily,accomplised,with,something...</td>\n",
       "      <td>0</td>\n",
       "    </tr>\n",
       "    <tr>\n",
       "      <th>3</th>\n",
       "      <td>in,my,opinion,the,easiest,way,would,be,to,use,...</td>\n",
       "      <td>1</td>\n",
       "    </tr>\n",
       "    <tr>\n",
       "      <th>4</th>\n",
       "      <td>biopython,should,be,able,to,read,in,large,fast...</td>\n",
       "      <td>0</td>\n",
       "    </tr>\n",
       "  </tbody>\n",
       "</table>\n",
       "</div>"
      ],
      "text/plain": [
       "                                            word_vec  score\n",
       "0  you,need,to,define,a,badge,model,as,well,and,d...      3\n",
       "1  you,can,read,a,large,file,one,line,at,a,time,i...      1\n",
       "2  this,would,be,eaily,accomplised,with,something...      0\n",
       "3  in,my,opinion,the,easiest,way,would,be,to,use,...      1\n",
       "4  biopython,should,be,able,to,read,in,large,fast...      0"
      ]
     },
     "execution_count": 12,
     "metadata": {},
     "output_type": "execute_result"
    }
   ],
   "source": [
    "################# make query ########################\n",
    "sql_query = \"\"\"\n",
    "    SELECT answer_table.word_vec, answer_table.score \n",
    "    FROM answer_table\n",
    "    INNER JOIN question_table\n",
    "        on answer_table.q_id = question_table.q_id\n",
    "        and question_table.view_count > 50;\n",
    "\"\"\"\n",
    "question_df = pd.read_sql_query(sql_query,con)\n",
    "print(question_df.shape)\n",
    "question_df.head()"
   ]
  },
  {
   "cell_type": "markdown",
   "metadata": {},
   "source": [
    "## Explore Answer Score"
   ]
  },
  {
   "cell_type": "code",
   "execution_count": null,
   "metadata": {
    "collapsed": true
   },
   "outputs": [],
   "source": [
    "from nltk.tokenize import PunktSentenceTokenizer\n",
    "question_df['word_vec'].values\n",
    "\n",
    "custom_sent_tokenizer = PunktSentenceTokenizer(train_text) #A\n",
    "tokenized = custom_sent_tokenizer.tokenize(sample_text)   #B"
   ]
  },
  {
   "cell_type": "code",
   "execution_count": 16,
   "metadata": {
    "collapsed": false
   },
   "outputs": [
    {
     "data": {
      "image/png": "[encoded data removed]",
      "text/plain": [
       "<matplotlib.figure.Figure at 0x7f613a035e48>"
      ]
     },
     "metadata": {},
     "output_type": "display_data"
    }
   ],
   "source": [
    "#import seaborn as sns\n",
    "import matplotlib.pyplot as plt\n",
    "import pandas as pd\n",
    "\n",
    "#sns.set_context(\"poster\")\n",
    "plt.Figure()\n",
    "#sns.distplot(question_df['score'],bins=20,kde=False, hist_kws={\"range\":(-5,15)}, norm_hist=True)\n",
    "plt.hist(question_df['score'],bins=20,range=(-5,15), normed=True,color='b')\n",
    "plt.xlim((-5,15))\n",
    "plt.xlabel('Answer score')\n",
    "#plt.savefig('answer_scores.png')\n",
    "#plt.savefig('answer_scores.svg')\n",
    "plt.show()"
   ]
  },
  {
   "cell_type": "code",
   "execution_count": 22,
   "metadata": {
    "collapsed": false
   },
   "outputs": [
    {
     "data": {
      "text/plain": [
       "33665"
      ]
     },
     "execution_count": 22,
     "metadata": {},
     "output_type": "execute_result"
    }
   ],
   "source": [
    "np.sum(question_df['score']==2)"
   ]
  },
  {
   "cell_type": "code",
   "execution_count": 37,
   "metadata": {
    "collapsed": true
   },
   "outputs": [],
   "source": [
    "question_df.to_csv('answers_50more_views.csv')"
   ]
  },
  {
   "cell_type": "code",
   "execution_count": 47,
   "metadata": {
    "collapsed": false
   },
   "outputs": [
    {
     "data": {
      "text/plain": [
       "410757"
      ]
     },
     "execution_count": 47,
     "metadata": {},
     "output_type": "execute_result"
    }
   ],
   "source": [
    "len(question_df)"
   ]
  },
  {
   "cell_type": "code",
   "execution_count": 48,
   "metadata": {
    "collapsed": false
   },
   "outputs": [
    {
     "name": "stdout",
     "output_type": "stream",
     "text": [
      "0.1797169616099056\n"
     ]
    }
   ],
   "source": [
    "import numpy as np\n",
    "threshold = 2\n",
    "\n",
    "y = question_df['score'].copy()\n",
    "y[y<threshold] = 0\n",
    "y[y>0] = 1\n",
    "print(np.mean(y))"
   ]
  },
  {
   "cell_type": "code",
   "execution_count": null,
   "metadata": {
    "collapsed": true
   },
   "outputs": [],
   "source": [
    "########## Close Connections ##############\n",
    "cur.close()\n",
    "con.close()"
   ]
  }
 ],
 "metadata": {
  "anaconda-cloud": {},
  "kernelspec": {
   "display_name": "Python [conda env:insight]",
   "language": "python",
   "name": "conda-env-insight-py"
  },
  "language_info": {
   "codemirror_mode": {
    "name": "ipython",
    "version": 3
   },
   "file_extension": ".py",
   "mimetype": "text/x-python",
   "name": "python",
   "nbconvert_exporter": "python",
   "pygments_lexer": "ipython3",
   "version": "3.5.2"
  }
 },
 "nbformat": 4,
 "nbformat_minor": 1
}
