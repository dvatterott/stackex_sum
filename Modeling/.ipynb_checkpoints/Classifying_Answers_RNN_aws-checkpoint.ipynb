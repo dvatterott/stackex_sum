{
 "cells": [
  {
   "cell_type": "markdown",
   "metadata": {},
   "source": [
    "## Load the data"
   ]
  },
  {
   "cell_type": "code",
   "execution_count": 1,
   "metadata": {
    "collapsed": false
   },
   "outputs": [
    {
     "data": {
      "text/html": [
       "<div>\n",
       "<table border=\"1\" class=\"dataframe\">\n",
       "  <thead>\n",
       "    <tr style=\"text-align: right;\">\n",
       "      <th></th>\n",
       "      <th>Unnamed: 0</th>\n",
       "      <th>word_vec</th>\n",
       "      <th>score</th>\n",
       "    </tr>\n",
       "  </thead>\n",
       "  <tbody>\n",
       "    <tr>\n",
       "      <th>0</th>\n",
       "      <td>0</td>\n",
       "      <td>can,someone,explain,why,i,get,negative,points,...</td>\n",
       "      <td>0</td>\n",
       "    </tr>\n",
       "    <tr>\n",
       "      <th>1</th>\n",
       "      <td>1</td>\n",
       "      <td>because,you,use,django,in,a,wrong,way,if,you,w...</td>\n",
       "      <td>0</td>\n",
       "    </tr>\n",
       "    <tr>\n",
       "      <th>2</th>\n",
       "      <td>2</td>\n",
       "      <td>i,am,not,using,it,i,am,experimenting,and,learn...</td>\n",
       "      <td>0</td>\n",
       "    </tr>\n",
       "    <tr>\n",
       "      <th>3</th>\n",
       "      <td>3</td>\n",
       "      <td>plus,points,from,me,this,is,a,good,question,fo...</td>\n",
       "      <td>0</td>\n",
       "    </tr>\n",
       "    <tr>\n",
       "      <th>4</th>\n",
       "      <td>4</td>\n",
       "      <td>you,should,print,the,attribute,of,the,imported...</td>\n",
       "      <td>9</td>\n",
       "    </tr>\n",
       "  </tbody>\n",
       "</table>\n",
       "</div>"
      ],
      "text/plain": [
       "   Unnamed: 0                                           word_vec  score\n",
       "0           0  can,someone,explain,why,i,get,negative,points,...      0\n",
       "1           1  because,you,use,django,in,a,wrong,way,if,you,w...      0\n",
       "2           2  i,am,not,using,it,i,am,experimenting,and,learn...      0\n",
       "3           3  plus,points,from,me,this,is,a,good,question,fo...      0\n",
       "4           4  you,should,print,the,attribute,of,the,imported...      9"
      ]
     },
     "execution_count": 1,
     "metadata": {},
     "output_type": "execute_result"
    }
   ],
   "source": [
    "import pandas as pd\n",
    "df = pd.read_csv('./data/full_answers_50more_views.csv')\n",
    "df.head()"
   ]
  },
  {
   "cell_type": "code",
   "execution_count": 2,
   "metadata": {
    "collapsed": false
   },
   "outputs": [
    {
     "data": {
      "text/plain": [
       "(411190, 3)"
      ]
     },
     "execution_count": 2,
     "metadata": {},
     "output_type": "execute_result"
    }
   ],
   "source": [
    "df.shape"
   ]
  },
  {
   "cell_type": "markdown",
   "metadata": {},
   "source": [
    "## Prep Data"
   ]
  },
  {
   "cell_type": "code",
   "execution_count": 3,
   "metadata": {
    "collapsed": true
   },
   "outputs": [],
   "source": [
    "df = df[df['word_vec'].notnull()]"
   ]
  },
  {
   "cell_type": "code",
   "execution_count": 4,
   "metadata": {
    "collapsed": false
   },
   "outputs": [
    {
     "data": {
      "text/plain": [
       "(411188, 3)"
      ]
     },
     "execution_count": 4,
     "metadata": {},
     "output_type": "execute_result"
    }
   ],
   "source": [
    "df.shape"
   ]
  },
  {
   "cell_type": "code",
   "execution_count": 5,
   "metadata": {
    "collapsed": false
   },
   "outputs": [
    {
     "name": "stdout",
     "output_type": "stream",
     "text": [
      "0.179655048299\n"
     ]
    }
   ],
   "source": [
    "import numpy as np\n",
    "threshold = 2\n",
    "\n",
    "y = df['score'].copy()\n",
    "y[y<threshold] = 0\n",
    "y[y>0] = 1\n",
    "print(np.mean(y))"
   ]
  },
  {
   "cell_type": "code",
   "execution_count": 6,
   "metadata": {
    "collapsed": false
   },
   "outputs": [
    {
     "name": "stderr",
     "output_type": "stream",
     "text": [
      "Using Theano backend.\n",
      "Using gpu device 0: Tesla K80 (CNMeM is disabled, cuDNN 5103)\n",
      "/home/ubuntu/anaconda2/lib/python2.7/site-packages/theano/sandbox/cuda/__init__.py:600: UserWarning: Your cuDNN version is more recent than the one Theano officially supports. If you see any problems, try updating Theano or downgrading cuDNN to version 5.\n",
      "  warnings.warn(warn)\n"
     ]
    }
   ],
   "source": [
    "import six.moves.cPickle as cPickle\n",
    "from keras.preprocessing.text import Tokenizer\n",
    "import os\n",
    "\n",
    "save_dir = '.'\n",
    "tokenizer_fname = \"rnn_tokenizer.pkl\"\n",
    "\n",
    "#cPickle.dump(tokenizer, open(os.path.join(save_dir, tokenizer_fname), \"wb\n",
    "tokenizer = cPickle.load(open(os.path.join(save_dir, tokenizer_fname), 'rb'))"
   ]
  },
  {
   "cell_type": "code",
   "execution_count": 7,
   "metadata": {
    "collapsed": false
   },
   "outputs": [
    {
     "data": {
      "text/plain": [
       "(411188, 200)"
      ]
     },
     "execution_count": 7,
     "metadata": {},
     "output_type": "execute_result"
    }
   ],
   "source": [
    "from keras.preprocessing.sequence import pad_sequences\n",
    "\n",
    "MAX_SEQUENCE_LENGTH = 200\n",
    "MAX_NB_WORDS = 100000\n",
    "VALIDATION_SPLIT = 0.2\n",
    "\n",
    "data = []\n",
    "gen = df.iterrows()\n",
    "for i,rows in enumerate(gen):\n",
    "    tokens = tokenizer.texts_to_sequences(rows[1]['word_vec'].split(','))\n",
    "    tokens = [x[0] for x in tokens if len(x)>0]\n",
    "    padded_seq = pad_sequences([tokens],maxlen=MAX_SEQUENCE_LENGTH)\n",
    "    data.append(padded_seq)\n",
    "\n",
    "data = np.array(data)\n",
    "data = np.squeeze(data)\n",
    "data.shape"
   ]
  },
  {
   "cell_type": "markdown",
   "metadata": {},
   "source": [
    "### split the data into a training set and a validation set"
   ]
  },
  {
   "cell_type": "code",
   "execution_count": 9,
   "metadata": {
    "collapsed": false
   },
   "outputs": [
    {
     "data": {
      "text/plain": [
       "73872"
      ]
     },
     "execution_count": 9,
     "metadata": {},
     "output_type": "execute_result"
    }
   ],
   "source": [
    "np.sum(y==1)"
   ]
  },
  {
   "cell_type": "code",
   "execution_count": 10,
   "metadata": {
    "collapsed": false
   },
   "outputs": [
    {
     "data": {
      "text/plain": [
       "337316"
      ]
     },
     "execution_count": 10,
     "metadata": {},
     "output_type": "execute_result"
    }
   ],
   "source": [
    "sum(y==0)"
   ]
  },
  {
   "cell_type": "code",
   "execution_count": 11,
   "metadata": {
    "collapsed": false
   },
   "outputs": [
    {
     "name": "stdout",
     "output_type": "stream",
     "text": [
      "328950\n"
     ]
    }
   ],
   "source": [
    "USE_SPLIT = 0.8\n",
    "VALIDATION_SPLIT = 0.1\n",
    "\n",
    "bal_samples_to_use = int(USE_SPLIT/5 * data.shape[0])\n",
    "nb_samples_to_use = int(USE_SPLIT * data.shape[0])\n",
    "nb_validation_samples = int(VALIDATION_SPLIT * data.shape[0])\n",
    "\n",
    "print(nb_samples_to_use)"
   ]
  },
  {
   "cell_type": "code",
   "execution_count": 12,
   "metadata": {
    "collapsed": false
   },
   "outputs": [
    {
     "name": "stderr",
     "output_type": "stream",
     "text": [
      "/home/ubuntu/anaconda2/lib/python2.7/site-packages/ipykernel/__main__.py:5: FutureWarning: in the future, boolean array-likes will be handled as a boolean array index\n",
      "/home/ubuntu/anaconda2/lib/python2.7/site-packages/ipykernel/__main__.py:6: FutureWarning: in the future, boolean array-likes will be handled as a boolean array index\n"
     ]
    },
    {
     "name": "stdout",
     "output_type": "stream",
     "text": [
      "(65790,)\n",
      "(65790, 200)\n"
     ]
    }
   ],
   "source": [
    "import copy\n",
    "bal_y = copy.copy(y[y==1][:bal_samples_to_use/2]) #create training set with helpful answers over sampled\n",
    "bal_y = np.append(bal_y,y[y==0][:bal_samples_to_use/2])\n",
    "\n",
    "bal_x = copy.copy(data[y==1,:][:bal_samples_to_use/2])\n",
    "bal_x = np.append(bal_x,data[y==0,:][:bal_samples_to_use/2],axis=0)\n",
    "print(bal_y.shape)\n",
    "print(bal_x.shape)"
   ]
  },
  {
   "cell_type": "code",
   "execution_count": 13,
   "metadata": {
    "collapsed": false
   },
   "outputs": [],
   "source": [
    "x_train = data[:nb_samples_to_use]\n",
    "y_train = y[:nb_samples_to_use]"
   ]
  },
  {
   "cell_type": "code",
   "execution_count": 14,
   "metadata": {
    "collapsed": false
   },
   "outputs": [
    {
     "data": {
      "text/plain": [
       "411188"
      ]
     },
     "execution_count": 14,
     "metadata": {},
     "output_type": "execute_result"
    }
   ],
   "source": [
    "data.shape[0]"
   ]
  },
  {
   "cell_type": "code",
   "execution_count": 15,
   "metadata": {
    "collapsed": false
   },
   "outputs": [
    {
     "name": "stdout",
     "output_type": "stream",
     "text": [
      "(328950,)\n",
      "(41118,)\n"
     ]
    }
   ],
   "source": [
    "x_val = data[-nb_validation_samples:]\n",
    "y_val = y[-nb_validation_samples:]\n",
    "\n",
    "last_x_val = data[-2*nb_validation_samples:-nb_validation_samples]\n",
    "last_y_val = y[-2*nb_validation_samples:-nb_validation_samples]\n",
    "\n",
    "print(y_train.shape)\n",
    "print(y_val.shape)"
   ]
  },
  {
   "cell_type": "code",
   "execution_count": 16,
   "metadata": {
    "collapsed": false
   },
   "outputs": [],
   "source": [
    "from keras.utils.np_utils import to_categorical\n",
    "\n",
    "bal_y = to_categorical(bal_y)\n",
    "y_val = to_categorical(np.array(y_val))\n",
    "y_train = to_categorical(np.array(y_train))\n",
    "last_y_val = to_categorical(np.array(last_y_val))"
   ]
  },
  {
   "cell_type": "markdown",
   "metadata": {},
   "source": [
    "## Set up embedding\n",
    "http://nlp.stanford.edu/data/glove.42B.300d.zip<br>\n",
    "https://blog.keras.io/using-pre-trained-word-embeddings-in-a-keras-model.html"
   ]
  },
  {
   "cell_type": "code",
   "execution_count": 8,
   "metadata": {
    "collapsed": false
   },
   "outputs": [],
   "source": [
    "from keras.layers import Embedding\n",
    "\n",
    "EMBEDDING_DIM = 300\n",
    "MAX_SEQUENCE_LENGTH = 200\n",
    "\n",
    "embedding_layer = Embedding(374000 + 1, #i know this from the length of the word_index that takes forever to compute\n",
    "                            EMBEDDING_DIM,\n",
    "                            #weights=[embedding_matrix],\n",
    "                            input_length=MAX_SEQUENCE_LENGTH,\n",
    "                            trainable=False)"
   ]
  },
  {
   "cell_type": "markdown",
   "metadata": {},
   "source": [
    "## Useful functions"
   ]
  },
  {
   "cell_type": "code",
   "execution_count": 17,
   "metadata": {
    "collapsed": false
   },
   "outputs": [],
   "source": [
    "from sklearn.metrics import roc_curve, auc\n",
    "import matplotlib.pyplot as plt\n",
    "import csv, copy, codecs, itertools, math\n",
    "from sklearn.metrics import confusion_matrix\n",
    "#%matplotlib inline\n",
    "\n",
    "def create_class_weight(y,mu=2):\n",
    "    total,classes = y.shape\n",
    "    class_weight = dict()\n",
    "\n",
    "    for cats in range(classes):\n",
    "        #score = total/float(sum(y[:,cats]==1))\n",
    "        score = math.log(mu*total/float(sum(y[:,cats]==1)))\n",
    "        class_weight[cats] = score if score > 1.0 else 1.0\n",
    "\n",
    "    return class_weight\n",
    "\n",
    "def create_ROC_plt(lg,X_test,y_test,lw=2):\n",
    "    y_score = lg.predict(X_test)[:,0]\n",
    "    fpr, tpr, _ = roc_curve(y_test, y_score)\n",
    "    roc_auc = auc(fpr, tpr)\n",
    "    \n",
    "    plt.figure()\n",
    "    plt.plot(fpr, tpr, color='darkorange',\\\n",
    "             lw=lw, label='ROC curve (area = %0.2f)' % roc_auc)\n",
    "    plt.plot([0, 1], [0, 1], color='navy', lw=lw, linestyle='--')\n",
    "    plt.xlim([0.0, 1.0])\n",
    "    plt.ylim([0.0, 1.05])\n",
    "    plt.xlabel('False Positive Rate')\n",
    "    plt.ylabel('True Positive Rate')\n",
    "    plt.title('Receiver operating characteristic example')\n",
    "    plt.legend(loc=\"lower right\")\n",
    "           \n",
    "def plot_confusion_matrix(cm, classes,\n",
    "                          normalize=False,\n",
    "                          title='Confusion matrix',\n",
    "                          cmap=plt.cm.Blues):\n",
    "    \"\"\"\n",
    "    This function prints and plots the confusion matrix.\n",
    "    Normalization can be applied by setting `normalize=True`.\n",
    "    \"\"\"\n",
    "    if normalize:\n",
    "        cm = cm.astype('float') / cm.sum(axis=1)[:, np.newaxis]\n",
    "    \n",
    "    plt.imshow(cm, interpolation='nearest', cmap=cmap, vmin=0.0, vmax=1.0)\n",
    "    plt.title(title)\n",
    "    plt.colorbar()\n",
    "    tick_marks = np.arange(len(classes))\n",
    "    plt.xticks(tick_marks, classes, rotation=45)\n",
    "    plt.yticks(tick_marks, classes)\n",
    "    \n",
    "    thresh = cm.max() / 1.\n",
    "    for i, j in itertools.product(range(cm.shape[0]), range(cm.shape[1])):\n",
    "        num = '%0.2f'%cm[i, j]\n",
    "        plt.text(j, i, num,\n",
    "                 horizontalalignment=\"center\",\n",
    "                 color=\"white\" if cm[i, j] > thresh else \"black\")\n",
    "\n",
    "    plt.tight_layout()\n",
    "    plt.ylabel('True label')\n",
    "    plt.xlabel('Predicted label')"
   ]
  },
  {
   "cell_type": "markdown",
   "metadata": {},
   "source": [
    "## Create model"
   ]
  },
  {
   "cell_type": "code",
   "execution_count": 18,
   "metadata": {
    "collapsed": false
   },
   "outputs": [],
   "source": [
    "from keras.layers import Dense, Input, Flatten, Dropout\n",
    "from keras.layers import Conv1D, MaxPooling1D, GRU, LSTM\n",
    "from keras.models import Model\n",
    "\n",
    "sequence_input = Input(shape=(MAX_SEQUENCE_LENGTH,), dtype='int32')\n",
    "embedded_sequences = embedding_layer(sequence_input)\n",
    "x = GRU(128, dropout_W=0.2, dropout_U=0.2)(embedded_sequences)\n",
    "preds = Dense(2, activation='softmax')(x)\n",
    "\n",
    "model = Model(sequence_input, preds)\n",
    "model.compile(loss='categorical_crossentropy',\n",
    "              optimizer='adam',\n",
    "              metrics=['acc'])"
   ]
  },
  {
   "cell_type": "code",
   "execution_count": 5,
   "metadata": {
    "collapsed": true
   },
   "outputs": [],
   "source": [
    "from keras.utils.visualize_util import plot\n",
    "plot(model, to_file='rnn_model.png')"
   ]
  },
  {
   "cell_type": "code",
   "execution_count": 6,
   "metadata": {
    "collapsed": false
   },
   "outputs": [
    {
     "data": {
      "text/html": [
       "<a href='./rnn_model.svg' target='_blank'>./rnn_model.svg</a><br>"
      ],
      "text/plain": [
       "/home/ubuntu/nbs/rnn_model.svg"
      ]
     },
     "execution_count": 6,
     "metadata": {},
     "output_type": "execute_result"
    }
   ],
   "source": [
    "from IPython.display import FileLink\n",
    "\n",
    "FileLink('./rnn_model.png')"
   ]
  },
  {
   "cell_type": "markdown",
   "metadata": {},
   "source": [
    "## Small dataset for getting a feel for the model/data"
   ]
  },
  {
   "cell_type": "code",
   "execution_count": 133,
   "metadata": {
    "collapsed": true
   },
   "outputs": [
    {
     "name": "stdout",
     "output_type": "stream",
     "text": [
      "Train on 5000 samples, validate on 1000 samples\n",
      "Epoch 1/10\n",
      "5000/5000 [==============================] - 7s - loss: 0.6908 - acc: 0.7426 - val_loss: 0.4963 - val_acc: 0.8040\n",
      "Epoch 2/10\n",
      "5000/5000 [==============================] - 7s - loss: 0.6252 - acc: 0.7712 - val_loss: 0.4847 - val_acc: 0.7910\n",
      "Epoch 3/10\n",
      "5000/5000 [==============================] - 7s - loss: 0.6055 - acc: 0.7704 - val_loss: 0.4482 - val_acc: 0.7940\n",
      "Epoch 4/10\n",
      "5000/5000 [==============================] - 7s - loss: 0.5877 - acc: 0.7830 - val_loss: 0.4569 - val_acc: 0.7700\n",
      "Epoch 5/10\n",
      "5000/5000 [==============================] - 7s - loss: 0.5877 - acc: 0.7772 - val_loss: 0.4549 - val_acc: 0.7930\n",
      "Epoch 6/10\n",
      "5000/5000 [==============================] - 7s - loss: 0.5803 - acc: 0.7878 - val_loss: 0.4435 - val_acc: 0.7850\n",
      "Epoch 7/10\n",
      "5000/5000 [==============================] - 7s - loss: 0.5838 - acc: 0.7840 - val_loss: 0.4603 - val_acc: 0.7720\n",
      "Epoch 8/10\n",
      "5000/5000 [==============================] - 7s - loss: 0.5825 - acc: 0.7870 - val_loss: 0.4649 - val_acc: 0.7810\n",
      "Epoch 9/10\n",
      "5000/5000 [==============================] - 7s - loss: 0.5712 - acc: 0.7998 - val_loss: 0.4700 - val_acc: 0.7660\n",
      "Epoch 10/10\n",
      "5000/5000 [==============================] - 7s - loss: 0.5714 - acc: 0.8000 - val_loss: 0.4721 - val_acc: 0.7560\n"
     ]
    },
    {
     "data": {
      "text/plain": [
       "<keras.callbacks.History at 0x7fdf54f4b210>"
      ]
     },
     "execution_count": 133,
     "metadata": {},
     "output_type": "execute_result"
    }
   ],
   "source": [
    "small_x = data[:5000]\n",
    "small_y = y[:5000]\n",
    "small_x_test = data[-1000:]\n",
    "small_y_test = y[-1000:]\n",
    "\n",
    "small_y = to_categorical(np.array(small_y))\n",
    "small_y_test = to_categorical(np.array(small_y_test))\n",
    "\n",
    "weight_dict = create_class_weight(small_y,mu=1.) \n",
    "\n",
    "model.optimizer.lr = 0.001\n",
    "model.fit(small_x, small_y, validation_data=(small_x_test, small_y_test), nb_epoch=10, \n",
    "          batch_size=256,class_weight=weight_dict)"
   ]
  },
  {
   "cell_type": "markdown",
   "metadata": {},
   "source": [
    "## Train model"
   ]
  },
  {
   "cell_type": "code",
   "execution_count": null,
   "metadata": {
    "collapsed": false
   },
   "outputs": [
    {
     "name": "stdout",
     "output_type": "stream",
     "text": [
      "Train on 65790 samples, validate on 41118 samples\n",
      "Epoch 1/3\n",
      "65790/65790 [==============================] - 114s - loss: 0.5098 - acc: 0.7975 - val_loss: 0.6234 - val_acc: 0.7047\n",
      "Epoch 2/3\n",
      "65790/65790 [==============================] - 114s - loss: 0.4962 - acc: 0.8042 - val_loss: 0.6097 - val_acc: 0.7287\n",
      "Epoch 3/3\n",
      "65790/65790 [==============================] - 114s - loss: 0.4958 - acc: 0.8042 - val_loss: 0.6051 - val_acc: 0.7376\n",
      "EPOCH 1\n",
      "Train on 328950 samples, validate on 41118 samples\n",
      "Epoch 1/1\n",
      "328950/328950 [==============================] - 511s - loss: 1.0599 - acc: 0.8210 - val_loss: 0.4063 - val_acc: 0.8157\n"
     ]
    }
   ],
   "source": [
    "# happy learning!\n",
    "nb_epoch = 1\n",
    "early_stop = 3\n",
    "batch_size = 128\n",
    "weight_dict = create_class_weight(y_train,mu=6.) \n",
    "loss_list = []\n",
    "model_name = './stackex_gru.h5'\n",
    "\n",
    "continue_training = 1\n",
    "\n",
    "if continue_training == True:\n",
    "    model.load_weights(model_name)\n",
    "else:\n",
    "    val_loss = 100.\n",
    "    model.optimizer.lr = 0.01\n",
    "    model.fit(bal_x, bal_y, validation_data=(x_val, y_val),\n",
    "              nb_epoch=3, batch_size=batch_size,class_weight='auto')\n",
    "\n",
    "model.optimizer.lr = 0.001\n",
    "for i in range(nb_epoch):\n",
    "    print('EPOCH %d'%(i+1))\n",
    "    hist = model.fit(x_train, y_train, validation_data=(x_val, y_val),\n",
    "                    nb_epoch=1, batch_size=batch_size,class_weight=weight_dict)\n",
    "    loss_list.extend([hist.history['val_loss'][0]])\n",
    "    if loss_list[-1] < val_loss: \n",
    "        model.save_weights(model_name)\n",
    "        val_loss = loss_list[-1]\n",
    "    if sum([x>val_loss for x in loss_list[-early_stop:]]) >= early_stop: break\n",
    "    \n",
    "#make plots\n",
    "model.load_weights(model_name)\n",
    "create_ROC_plt(model,last_x_val,last_y_val[:,0])\n",
    "plt.show()\n",
    "y_pred = model.predict(last_x_val)[:,1]\n",
    "y_pred = [round(x) for x in y_pred]\n",
    "cnf_matrix = confusion_matrix(last_y_val[:,1], y_pred)\n",
    "np.set_printoptions(precision=2)\n",
    "plt.figure()\n",
    "plot_confusion_matrix(cnf_matrix, classes=['Unhelpful Answer','Helpful Answer'], normalize=True,\\\n",
    "                      title='Normalized confusion matrix')\n",
    "plt.show()\n",
    "print(np.mean(last_y_val[:,1] == y_pred))"
   ]
  },
  {
   "cell_type": "markdown",
   "metadata": {},
   "source": [
    "## Model predictions"
   ]
  },
  {
   "cell_type": "code",
   "execution_count": 19,
   "metadata": {
    "collapsed": false
   },
   "outputs": [],
   "source": [
    "model.load_weights('./stackex_gru.h5') #saved after 1 long run of training"
   ]
  },
  {
   "cell_type": "code",
   "execution_count": 20,
   "metadata": {
    "collapsed": true
   },
   "outputs": [],
   "source": [
    "y_pred = model.predict(last_x_val)[:,1]\n",
    "y_pred = [round(x) for x in y_pred]\n",
    "cnf_matrix = confusion_matrix(last_y_val[:,1], y_pred)\n",
    "np.set_printoptions(precision=2)"
   ]
  },
  {
   "cell_type": "code",
   "execution_count": 24,
   "metadata": {
    "collapsed": false
   },
   "outputs": [
    {
     "name": "stdout",
     "output_type": "stream",
     "text": [
      "0.813366408872\n"
     ]
    },
    {
     "data": {
      "image/png": "[encoded data removed]",
      "text/plain": [
       "<matplotlib.figure.Figure at 0x7fd0c4d5aa10>"
      ]
     },
     "metadata": {},
     "output_type": "display_data"
    }
   ],
   "source": [
    "print(np.mean(last_y_val[:,1] == y_pred))\n",
    "\n",
    "import seaborn as sns\n",
    "sns.set_context(\"poster\")\n",
    "sns.set_style(\"ticks\")\n",
    "\n",
    "plt.figure()\n",
    "plot_confusion_matrix(cnf_matrix, classes=['Unhelpful Answer','Helpful Answer'], normalize=True,\\\n",
    "                      title='Normalized confusion matrix')\n",
    "plt.tight_layout()\n",
    "plt.savefig('./gru_confmat.png', transparent=True)\n",
    "plt.savefig('./gru_confmat.svg', transparent=True)\n",
    "plt.show()"
   ]
  },
  {
   "cell_type": "code",
   "execution_count": 33,
   "metadata": {
    "collapsed": false
   },
   "outputs": [
    {
     "data": {
      "image/png": "[encoded data removed]",
      "text/plain": [
       "<matplotlib.figure.Figure at 0x7fd03e6c2310>"
      ]
     },
     "metadata": {},
     "output_type": "display_data"
    }
   ],
   "source": [
    "import seaborn as sns\n",
    "sns.set_context(\"poster\")\n",
    "sns.set_style(\"darkgrid\")\n",
    "\n",
    "create_ROC_plt(model,last_x_val,last_y_val[:,0])\n",
    "plt.savefig('./gru_roc.svg', transparent=True)\n",
    "plt.savefig('./gru_roc.png', transparent=True)\n",
    "plt.show()"
   ]
  },
  {
   "cell_type": "markdown",
   "metadata": {},
   "source": [
    "## Create file links for passing files to my personal computer"
   ]
  },
  {
   "cell_type": "code",
   "execution_count": 34,
   "metadata": {
    "collapsed": false
   },
   "outputs": [
    {
     "data": {
      "text/html": [
       "<a href='./gru_confmat.svg' target='_blank'>./gru_confmat.svg</a><br>"
      ],
      "text/plain": [
       "/home/ubuntu/nbs/gru_confmat.svg"
      ]
     },
     "execution_count": 34,
     "metadata": {},
     "output_type": "execute_result"
    }
   ],
   "source": [
    "from IPython.display import FileLink\n",
    "\n",
    "FileLink('./gru_confmat.svg')"
   ]
  },
  {
   "cell_type": "code",
   "execution_count": 35,
   "metadata": {
    "collapsed": false
   },
   "outputs": [
    {
     "data": {
      "text/html": [
       "<a href='./gru_confmat.png' target='_blank'>./gru_confmat.png</a><br>"
      ],
      "text/plain": [
       "/home/ubuntu/nbs/gru_confmat.png"
      ]
     },
     "execution_count": 35,
     "metadata": {},
     "output_type": "execute_result"
    }
   ],
   "source": [
    "FileLink('./gru_confmat.png')"
   ]
  },
  {
   "cell_type": "code",
   "execution_count": 36,
   "metadata": {
    "collapsed": false
   },
   "outputs": [
    {
     "data": {
      "text/html": [
       "<a href='./gru_roc.svg' target='_blank'>./gru_roc.svg</a><br>"
      ],
      "text/plain": [
       "/home/ubuntu/nbs/gru_roc.svg"
      ]
     },
     "execution_count": 36,
     "metadata": {},
     "output_type": "execute_result"
    }
   ],
   "source": [
    "FileLink('./gru_roc.svg')"
   ]
  },
  {
   "cell_type": "code",
   "execution_count": 37,
   "metadata": {
    "collapsed": false
   },
   "outputs": [
    {
     "data": {
      "text/html": [
       "<a href='./gru_roc.png' target='_blank'>./gru_roc.png</a><br>"
      ],
      "text/plain": [
       "/home/ubuntu/nbs/gru_roc.png"
      ]
     },
     "execution_count": 37,
     "metadata": {},
     "output_type": "execute_result"
    }
   ],
   "source": [
    "FileLink('./gru_roc.png')"
   ]
  },
  {
   "cell_type": "code",
   "execution_count": 68,
   "metadata": {
    "collapsed": false
   },
   "outputs": [
    {
     "data": {
      "text/html": [
       "<a href='./Classifying_Answers_RNN.ipynb' target='_blank'>./Classifying_Answers_RNN.ipynb</a><br>"
      ],
      "text/plain": [
       "/home/ubuntu/nbs/Classifying_Answers_RNN.ipynb"
      ]
     },
     "execution_count": 68,
     "metadata": {},
     "output_type": "execute_result"
    }
   ],
   "source": [
    "FileLink('./Classifying_Answers_RNN.ipynb')"
   ]
  }
 ],
 "metadata": {
  "anaconda-cloud": {},
  "kernelspec": {
   "display_name": "Python [conda root]",
   "language": "python",
   "name": "conda-root-py"
  },
  "language_info": {
   "codemirror_mode": {
    "name": "ipython",
    "version": 3
   },
   "file_extension": ".py",
   "mimetype": "text/x-python",
   "name": "python",
   "nbconvert_exporter": "python",
   "pygments_lexer": "ipython3",
   "version": "3.5.2"
  }
 },
 "nbformat": 4,
 "nbformat_minor": 1
}
