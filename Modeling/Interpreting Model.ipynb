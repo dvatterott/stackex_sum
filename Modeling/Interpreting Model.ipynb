{
 "cells": [
  {
   "cell_type": "code",
   "execution_count": 3,
   "metadata": {
    "collapsed": false
   },
   "outputs": [],
   "source": [
    "import stackexchange\n",
    "\n",
    "api_key = '5*wCDZgONnIJ*aiaYeKjQQ(('\n",
    "\n",
    "so = stackexchange.Site(stackexchange.StackOverflow,api_key)\n",
    "so.be_inclusive()\n",
    "so.impose_throttling = True\n",
    "so.throttle_stop = False\n",
    "\n",
    "from bs4 import BeautifulSoup\n",
    "from nltk.tokenize import RegexpTokenizer\n",
    "from nltk.corpus import stopwords\n",
    "from nltk.stem.porter import PorterStemmer\n",
    "from nltk import sent_tokenize\n",
    "\n",
    "url = 'http://stackoverflow.com/questions/3501382/checking-whether-a-variable-is-an-integer-or-not'\n",
    "q_id = [3501382]\n",
    "question = so.question(q_id)\n",
    "\n",
    "p_stemmer = PorterStemmer()\n",
    "tokenizer = RegexpTokenizer('\\w+')"
   ]
  },
  {
   "cell_type": "code",
   "execution_count": 73,
   "metadata": {
    "collapsed": false
   },
   "outputs": [
    {
     "name": "stdout",
     "output_type": "stream",
     "text": [
      "Gimme that overflow!\n"
     ]
    }
   ],
   "source": [
    "from keras.preprocessing.sequence import pad_sequences\n",
    "from keras.preprocessing.text import text_to_word_sequence, Tokenizer\n",
    "from keras.layers import Dense, Input, GRU, Embedding\n",
    "from keras.models import Model\n",
    "import six.moves.cPickle as cPickle\n",
    "\n",
    "MAX_SEQUENCE_LENGTH = 200\n",
    "EMBEDDING_DIM = 300\n",
    "word_index_length = 374000\n",
    "\n",
    "embedding_layer = Embedding(word_index_length + 1,\n",
    "                            EMBEDDING_DIM,\n",
    "                            input_length=MAX_SEQUENCE_LENGTH,\n",
    "                            trainable=False)\n",
    "\n",
    "sequence_input = Input(shape=(MAX_SEQUENCE_LENGTH,), dtype='int32')\n",
    "embedded_sequences = embedding_layer(sequence_input)\n",
    "x = GRU(128, dropout_W=0.2, dropout_U=0.2)(embedded_sequences)\n",
    "preds = Dense(2, activation='softmax')(x)\n",
    "\n",
    "mymodel = Model(sequence_input, preds)\n",
    "mymodel.compile(loss='categorical_crossentropy',\n",
    "              optimizer='adam',\n",
    "              metrics=['acc'])\n",
    "mymodel.load_weights('../Data_and_Models/stackex_gru.h5')\n",
    "print('Gimme that overflow!')\n",
    "vectorizer = cPickle.load(open('../Data_and_Models/rnn_tokenizer.pkl', 'rb'), encoding='latin1')\n",
    "lg = mymodel"
   ]
  },
  {
   "cell_type": "code",
   "execution_count": 131,
   "metadata": {
    "collapsed": true
   },
   "outputs": [],
   "source": [
    "import numpy as np\n",
    "\n",
    "def fetch_and_clean(text,model_prep=False):\n",
    "    raw = BeautifulSoup(text, \"lxml\").get_text()\n",
    "    raw = raw.lower()\n",
    "\n",
    "    if model_prep == False:\n",
    "        tokens = text_to_word_sequence(raw)\n",
    "    elif model_prep == True:\n",
    "        tokens = tokenizer.tokenize(raw)\n",
    "        tokens = [word for word in tokens if not word.isdigit()]\n",
    "        tokens = [word for word in tokens if word not in stopwords.words('english')]\n",
    "        tokens = [p_stemmer.stem(i) for i in tokens]\n",
    "    return tokens\n",
    "\n",
    "def sentences_tokenization(text):\n",
    "    raw = BeautifulSoup(text, \"lxml\").get_text()\n",
    "    raw = raw.lower()\n",
    "    sentences = sent_tokenize(raw)\n",
    "    return sentences\n",
    "\n",
    "def sentences_or_not(text, sentences=True):\n",
    "    if sentences == False:\n",
    "        output = fetch_and_clean(text)\n",
    "    else:\n",
    "        output = sentences_tokenization(text)\n",
    "    return output\n",
    "\n",
    "def get_answer_Info(question):\n",
    "    answers_dict = {}\n",
    "    text_source = question.json\n",
    "\n",
    "    if 'comments' in text_source.keys():\n",
    "        answer_id = -1\n",
    "        for text in text_source['comments']:\n",
    "            answer_id += 1\n",
    "            temp_dict = {}\n",
    "            temp_dict['tokens'] = sentences_or_not(text['body'])\n",
    "            temp_dict['raw'] = text['body']\n",
    "            temp_dict['score'] = text['score']\n",
    "            answers_dict[answer_id] = temp_dict\n",
    "    else:\n",
    "        answer_id = -1\n",
    "\n",
    "    if 'answers' in text_source.keys():\n",
    "        for text in text_source['answers']:\n",
    "            answer_id += 1\n",
    "            temp_dict = {}\n",
    "            temp_dict['tokens'] = sentences_or_not(text['body'])\n",
    "            temp_dict['raw'] = [text['body']]\n",
    "            temp_dict['score'] = text['score']\n",
    "\n",
    "            if 'comments' in text.keys():\n",
    "                for comments in text['comments']:\n",
    "                    temp_dict['tokens'].extend(sentences_or_not(comments['body']))\n",
    "                    temp_dict['raw'].extend(comments['body']) #was extend\n",
    "                    temp_dict['score'] += comments['score']\n",
    "\n",
    "            temp_dict['raw'] = ''.join(temp_dict['raw'])\n",
    "            answers_dict[answer_id] = temp_dict\n",
    "\n",
    "    return answers_dict\n",
    "    \n",
    "def find_helpful_sentences(answers_dict, help_threshold=0.0,print_on=False):\n",
    "    new_answer_dict = answers_dict\n",
    "    answers = []\n",
    "    sent = []\n",
    "\n",
    "    for keys in new_answer_dict:\n",
    "        a_dict = new_answer_dict[keys]\n",
    "        a_vect = a_dict['tokens']\n",
    "        a_raw = a_dict['raw']\n",
    "        just_tok = [fetch_and_clean(x,model_prep=False) for x in a_vect]\n",
    "\n",
    "        #print(just_tok)\n",
    "        just_tok = [vectorizer.texts_to_sequences(x) for x in just_tok]\n",
    "        temp = []\n",
    "        for items in just_tok: temp.append([x[0] for x in items if len(x)>0])\n",
    "        just_tok = temp\n",
    "\n",
    "        padded_seq = pad_sequences(just_tok,maxlen=MAX_SEQUENCE_LENGTH)\n",
    "        seq = np.array(padded_seq)\n",
    "        \n",
    "        y_pred = lg.predict(seq)\n",
    "        y_pred = y_pred[:,1] - y_pred[:,0]\n",
    "        \n",
    "        sent.append(a_vect)\n",
    "        answers.append(y_pred)\n",
    "\n",
    "    return (sent, answers)"
   ]
  },
  {
   "cell_type": "code",
   "execution_count": 132,
   "metadata": {
    "collapsed": false
   },
   "outputs": [],
   "source": [
    "answers_dict = get_answer_Info(question)\n",
    "(sent, answers) = find_helpful_sentences(answers_dict)"
   ]
  },
  {
   "cell_type": "code",
   "execution_count": 133,
   "metadata": {
    "collapsed": false
   },
   "outputs": [],
   "source": [
    "from sklearn.pipeline import make_pipeline\n",
    "from sklearn.base import BaseEstimator, TransformerMixin\n",
    "\n",
    "class MyRNN(BaseEstimator, TransformerMixin):\n",
    "    def __init__(self, lg):\n",
    "        self.lg = lg\n",
    "\n",
    "    def predict(self, a_vect):\n",
    "        just_tok = [fetch_and_clean(x,model_prep=False) for x in a_vect]\n",
    "        just_tok = [vectorizer.texts_to_sequences(x) for x in just_tok]\n",
    "        temp = []\n",
    "        for items in just_tok: temp.append([x[0] for x in items if len(x)>0])\n",
    "        just_tok = temp\n",
    "\n",
    "        padded_seq = pad_sequences(just_tok,maxlen=MAX_SEQUENCE_LENGTH)\n",
    "        seq = np.array(padded_seq)\n",
    "        \n",
    "        return self.lg.predict(seq)"
   ]
  },
  {
   "cell_type": "code",
   "execution_count": 138,
   "metadata": {
    "collapsed": false
   },
   "outputs": [
    {
     "data": {
      "text/plain": [
       "array([[ 0.84269243,  0.15730758],\n",
       "       [ 0.78681147,  0.2131885 ]], dtype=float32)"
      ]
     },
     "execution_count": 138,
     "metadata": {},
     "output_type": "execute_result"
    }
   ],
   "source": [
    "RNN = MyRNN(lg)"
   ]
  },
  {
   "cell_type": "code",
   "execution_count": 141,
   "metadata": {
    "collapsed": false
   },
   "outputs": [
    {
     "data": {
      "text/plain": [
       "'@hulk: you seem to be under the impression that type is the right way to do this.'"
      ]
     },
     "execution_count": 141,
     "metadata": {},
     "output_type": "execute_result"
    }
   ],
   "source": [
    "sent[1][0]"
   ]
  },
  {
   "cell_type": "code",
   "execution_count": 143,
   "metadata": {
    "collapsed": false
   },
   "outputs": [],
   "source": [
    "sent_out = [item for sublist in sent for item in sublist]"
   ]
  },
  {
   "cell_type": "code",
   "execution_count": 150,
   "metadata": {
    "collapsed": false
   },
   "outputs": [
    {
     "data": {
      "text/plain": [
       "array([[ 0.76623845,  0.23376152]], dtype=float32)"
      ]
     },
     "execution_count": 150,
     "metadata": {},
     "output_type": "execute_result"
    }
   ],
   "source": [
    "RNN.predict([sent_out[0]])"
   ]
  },
  {
   "cell_type": "code",
   "execution_count": 158,
   "metadata": {
    "collapsed": false
   },
   "outputs": [
    {
     "name": "stdout",
     "output_type": "stream",
     "text": [
      "134\n"
     ]
    }
   ],
   "source": [
    "for i,items in enumerate(sent_out):\n",
    "    if items == ':)':\n",
    "        print(i)\n",
    "        break"
   ]
  },
  {
   "cell_type": "code",
   "execution_count": null,
   "metadata": {
    "collapsed": false
   },
   "outputs": [
    {
     "name": "stderr",
     "output_type": "stream",
     "text": [
      "/home/dan-laptop/anaconda3/envs/insight/lib/python3.5/re.py:203: FutureWarning: split() requires a non-empty pattern match.\n",
      "  return _compile(pattern, flags).split(string, maxsplit)\n"
     ]
    }
   ],
   "source": [
    "class_names = ['unhelpful', 'helpful']\n",
    "from lime.lime_text import LimeTextExplainer\n",
    "explainer = LimeTextExplainer(class_names=class_names)\n",
    "\n",
    "RNN = MyRNN(lg)\n",
    "#word_dict = {}\n",
    "\n",
    "for items in sent_out[135:]:\n",
    "    exp = explainer.explain_instance(items, RNN.predict, num_features=6)\n",
    "    print(items)\n",
    "    print('Probability(helpful) =', RNN.predict([items])[0,1])\n",
    "    word_list = exp.as_list()\n",
    "    for words in word_list:\n",
    "        if words[0] in word_dict.keys():\n",
    "            word_dict[words[0]] = np.append(word_dict[words[0]],words[1])\n",
    "        else:\n",
    "            word_dict[words[0]] = words[1]"
   ]
  },
  {
   "cell_type": "code",
   "execution_count": 156,
   "metadata": {
    "collapsed": false
   },
   "outputs": [
    {
     "data": {
      "text/plain": [
       "{'0': 0.037732912526305631,\n",
       " '1': array([ 0.02290346,  0.05391986]),\n",
       " '12345': -0.021949733356062918,\n",
       " '21583758': 8.9702906553994894e-05,\n",
       " '3': 0.031664745299509363,\n",
       " '33': -0.017663488344971116,\n",
       " 'a': array([ 0.05552529,  0.0530055 ,  0.0478736 ,  0.01688123,  0.02612986,\n",
       "         0.01733033,  0.02772123,  0.02009946,  0.08322205,  0.02299505,\n",
       "         0.0374692 ,  0.00979222,  0.02218186,  0.01910095,  0.04611972,\n",
       "         0.01402174,  0.04203285,  0.0401535 ,  0.01301343,  0.01961553,\n",
       "         0.03321212]),\n",
       " 'abcs': 0.022190215250445743,\n",
       " 'about': array([ 0.00148707, -0.0263881 ]),\n",
       " 'above': -0.0285968200013446,\n",
       " 'accordingly': -0.028738112388841081,\n",
       " 'admit': 0.018820878672915757,\n",
       " 'advice': -0.0082428456110958167,\n",
       " 'after': array([-0.03506779, -0.04611085]),\n",
       " 'agree': -0.010369007719197359,\n",
       " 'ai': 0.054674352496395622,\n",
       " 'all': array([-0.02677008, -0.03427115,  0.04253602,  0.03930316]),\n",
       " 'almost': 0.0023442482467398579,\n",
       " 'also': array([-0.0592403 , -0.08046542, -0.0858568 , -0.04379743, -0.01496167]),\n",
       " 'always': array([-0.02082363, -0.02769224]),\n",
       " 'am': -0.042784598202272921,\n",
       " 'ambiguous': 0.039242272383056352,\n",
       " 'an': array([ 0.02501944,  0.01094086,  0.04256772]),\n",
       " 'and': array([-0.00908046, -0.03262009, -0.02175924, -0.02205901]),\n",
       " 'another': -0.0093772876286857855,\n",
       " 'answer': array([-0.03065505, -0.02825026]),\n",
       " 'answered': -0.059243693492134236,\n",
       " 'answering': -0.028357921874079681,\n",
       " 'any': array([-0.02459867, -0.00178671,  0.00298398]),\n",
       " 'anything': array([ 0.05316659,  0.03927912]),\n",
       " 'appropriate': array([-0.01701855,  0.00761653]),\n",
       " 'are': array([-0.03816455,  0.01054111, -0.02032414]),\n",
       " 'argument': 0.03772763292077088,\n",
       " 'around': 0.027349747179750406,\n",
       " 'arrangement': -0.019839067957580024,\n",
       " 'as': array([-0.02224487, -0.01741704]),\n",
       " 'ashish': array([-0.01142867, -0.12776214]),\n",
       " 'ask': 0.016922788985807749,\n",
       " 'assignment': 0.013117122274995433,\n",
       " 'attributes': -0.020883683110762261,\n",
       " 'bad': array([ 0.02532004,  0.03531007,  0.03126673]),\n",
       " 'be': array([ 0.00876037,  0.02101892,  0.01725865,  0.02754746]),\n",
       " 'before': array([ 0.02946219, -0.03085151]),\n",
       " 'behavior': 0.042152512345756454,\n",
       " 'believe': 0.042010418100700581,\n",
       " 'best': array([ 0.01345357,  0.03883082]),\n",
       " 'bool': 0.12231425799135977,\n",
       " 'boolean': 0.054986818199082077,\n",
       " 'build': -0.070615903161399679,\n",
       " 'but': array([-0.00636653, -0.04615483, -0.05212898, -0.05565597, -0.04550206,\n",
       "        -0.08987059, -0.04000529, -0.02218137, -0.01444198, -0.02834952,\n",
       "        -0.04148306, -0.02718724, -0.05343575, -0.04651419, -0.02219653,\n",
       "        -0.02871734, -0.01402224]),\n",
       " 'by': array([-0.08604969, -0.05093581, -0.04956107, -0.037429  ]),\n",
       " 'can': array([-0.07596836, -0.01987451]),\n",
       " 'canonical': 0.035995161860659416,\n",
       " 'carefully': -0.0064770435711818232,\n",
       " 'case': -0.013102849620246172,\n",
       " 'catch': 0.019366781224693604,\n",
       " 'certainly': 0.017263335137988587,\n",
       " 'check': array([-0.07060023, -0.04655019, -0.05704726, -0.0321928 , -0.07773773,\n",
       "        -0.00817974, -0.03344043, -0.02918531, -0.03220101, -0.04058626]),\n",
       " 'checked': array([-0.02179142, -0.03352786]),\n",
       " 'checking': array([-0.0304925 , -0.04707445, -0.04298953, -0.06310818, -0.04433109]),\n",
       " 'chosen': 0.019070353638707866,\n",
       " 'clause': array([ 0.0369689 ,  0.03014206]),\n",
       " 'clauses': -0.010585891646564628,\n",
       " 'clear': -0.0095906591006338412,\n",
       " 'code': array([ 0.02428345,  0.05620802]),\n",
       " 'coding': 0.0038080289015575562,\n",
       " 'com': 0.019405541018112971,\n",
       " 'comment': array([-0.03689735, -0.04021968]),\n",
       " 'compatible': array([-0.02894196, -0.01593895]),\n",
       " 'computationally': 0.067744277184710461,\n",
       " 'constructed': 0.028593459854577875,\n",
       " 'convoluted': -0.03466571155541226,\n",
       " 'could': -0.0070323524734272709,\n",
       " 'counter': 0.022540326607579531,\n",
       " 'custom': -0.063116308598024792,\n",
       " 'data': array([-0.02236569, -0.02547747]),\n",
       " 'database': array([-0.01369602, -0.02487342, -0.03636379]),\n",
       " 'decimal': 0.12353216258123573,\n",
       " 'dictionary': array([ 0.02807961,  0.01377122,  0.04568822,  0.05539853]),\n",
       " 'different': -0.02043256058649532,\n",
       " 'divided': 0.046691060984710431,\n",
       " 'do': array([ 0.03652156,  0.01189493,  0.01437616, -0.03873994]),\n",
       " 'docs': 0.041172117371145456,\n",
       " 'does': 0.0093595950135212484,\n",
       " 'doesn': 0.0076924241284849039,\n",
       " 'don': array([ 0.01739061,  0.04602092,  0.04141745]),\n",
       " 'dont': -0.023324122540010525,\n",
       " 'doubling': 0.033617764052754517,\n",
       " 'downvote': array([ 0.02685244, -0.01029499]),\n",
       " 'duplicate': 0.038627411225662642,\n",
       " 'e': 0.013700303570907835,\n",
       " 'easier': 0.021872667052275471,\n",
       " 'efficiency': 0.022369598751565165,\n",
       " 'efficient': array([ 0.10099   ,  0.02432654]),\n",
       " 'etc': 0.020851462344886627,\n",
       " 'example': array([-0.01373112, -0.04183177, -0.02801512, -0.05858099]),\n",
       " 'except': array([ 0.01117065, -0.01695967]),\n",
       " 'exception': array([ 0.04150134,  0.02544796,  0.02431217,  0.07617557,  0.02511161,\n",
       "         0.05486079,  0.0363537 ,  0.06753324,  0.04821808]),\n",
       " 'expect': 0.036311863541432308,\n",
       " 'explicit': 0.047989791992664399,\n",
       " 'external': array([-0.01148371, -0.01977431]),\n",
       " 'fail': 0.015241453867502319,\n",
       " 'failed': -0.012017733072631865,\n",
       " 'false': array([ 0.03567475,  0.05785106,  0.03479942,  0.02903449]),\n",
       " 'following': -0.01776588005188821,\n",
       " 'for': -0.048052761904257814,\n",
       " 'found': -0.043696522549761925,\n",
       " 'fragile': 0.052930355639269941,\n",
       " 'from': array([-0.04240576, -0.00980776]),\n",
       " 'further': -0.04150495111429111,\n",
       " 'g': array([-0.03612395, -0.02519991]),\n",
       " 'glad': -0.11133475232810838,\n",
       " 'go': -0.020798528968377861,\n",
       " 'good': array([ 0.03207342,  0.05377891,  0.04825023,  0.01906576, -0.02952925]),\n",
       " 'great': 0.044551160995142003,\n",
       " 'griffiths': 0.021255658648007353,\n",
       " 'guess': -0.057554248942713777,\n",
       " 'had': -0.040339904628574723,\n",
       " 'half': array([ 0.05513412,  0.04020709,  0.04023189,  0.01482061]),\n",
       " 'handle': -0.035237591795178803,\n",
       " 'handling': -0.056810518776110305,\n",
       " 'hate': 0.063830826859706882,\n",
       " 'haven': -0.013776942088422589,\n",
       " 'he': array([-0.03178143, -0.04216326]),\n",
       " 'help': array([-0.03301544, -0.04669673]),\n",
       " 'helpful': -0.054647653974443662,\n",
       " 'here': array([-0.00482438, -0.03569051]),\n",
       " 'hmm': -0.05947537179777234,\n",
       " 'honestly': 0.025924117339021096,\n",
       " 'hulk': array([ 0.02036992,  0.02271523,  0.00964114]),\n",
       " 'i': array([-0.01671589, -0.07631652, -0.00896421, -0.080796  , -0.14035036,\n",
       "        -0.07827677, -0.20496404, -0.09928986, -0.1675358 , -0.06231966,\n",
       "        -0.07678979, -0.13477925, -0.09410292, -0.07340444, -0.12585238,\n",
       "        -0.03805031, -0.07349552, -0.18258187, -0.08524833, -0.10901085,\n",
       "        -0.09683647, -0.07476722, -0.15182695, -0.06255407, -0.10323775,\n",
       "        -0.08302184]),\n",
       " 'id': -0.012973615822390795,\n",
       " 'if': array([ 0.03503771, -0.07374507,  0.010807  ]),\n",
       " 'important': 0.031231812758439038,\n",
       " 'in': array([-0.02344127, -0.01746396, -0.01257211, -0.04132706,  0.0078302 ,\n",
       "         0.01031382]),\n",
       " 'inherit': 0.047159815105618133,\n",
       " 'initialiser': 0.055877819318166148,\n",
       " 'instead': 0.024418807070327252,\n",
       " 'int': array([ 0.02151752,  0.02728464,  0.07513597,  0.05341558,  0.0414854 ,\n",
       "        -0.03387638,  0.02683897,  0.02801771,  0.03003785,  0.0281191 ,\n",
       "         0.05547844,  0.03231967]),\n",
       " 'int16': 0.042372714533845258,\n",
       " 'integer': array([ 0.0681504 ,  0.05491118,  0.04423742,  0.06254312,  0.07776061,\n",
       "         0.17863499,  0.0325951 ,  0.0544264 ,  0.05579938,  0.05143808,\n",
       "         0.10424854,  0.11483333,  0.12630075,  0.10473328,  0.07191489,\n",
       "         0.05755533]),\n",
       " 'integers': array([ 0.01545159,  0.05810204]),\n",
       " 'invaluable': 0.025966237499067752,\n",
       " 'is': array([ 0.01347184,  0.05518054,  0.03199556,  0.03969032,  0.03661919,\n",
       "         0.02933224, -0.00620327,  0.02952566,  0.02966585,  0.03139371,\n",
       "         0.0579479 ,  0.03463825,  0.0168943 ,  0.02391637,  0.03633288,\n",
       "         0.01964597,  0.02821346,  0.04187563,  0.01381904]),\n",
       " 'isinstance': array([ 0.18733279,  0.04796697,  0.11030012,  0.08961357,  0.22438936,\n",
       "         0.11136658,  0.27177303,  0.06540254,  0.09123471,  0.09987269]),\n",
       " 'isn': -0.017288200691391628,\n",
       " 'it': array([-0.06272828, -0.01367729, -0.03110885, -0.01768237, -0.01344033,\n",
       "        -0.1213388 , -0.02720603,  0.04125354,  0.04966132,  0.03943134,\n",
       "        -0.02422523]),\n",
       " 'iterable': array([ 0.08381904,  0.09441913]),\n",
       " 'itself': 0.047302657744558732,\n",
       " 'just': -0.015843172264248511,\n",
       " 'language': 0.061864077893264896,\n",
       " 'legal': 0.0048041309593256495,\n",
       " 'likely': 0.015054619989187154,\n",
       " 'limiting': 0.034096279727064707,\n",
       " 'logs': -0.082861199612720149,\n",
       " 'loop': 0.067485512806331832,\n",
       " 'lott': 0.0019987150805524773,\n",
       " 'making': 0.027345863664961598,\n",
       " 'may': -0.04438923651052832,\n",
       " 'maybe': -0.020452638213050853,\n",
       " 'me': array([-0.06968082, -0.04865476, -0.04056029]),\n",
       " 'measure': 0.034149830192814964,\n",
       " 'mention': -0.0010313048972833169,\n",
       " 'mentioned': -0.025755544561607023,\n",
       " 'method': -0.027213323766880754,\n",
       " 'might': -0.025082881670302176,\n",
       " 'misguided': 0.060662202811689943,\n",
       " 'modify': array([-0.05526585, -0.02153705]),\n",
       " 'multiplying': 0.0058906202393591255,\n",
       " 'must': 0.02986357732145186,\n",
       " 'my': array([-0.09882972, -0.0738839 , -0.00917027, -0.05800903]),\n",
       " 'need': 0.0085377653796331523,\n",
       " 'never': array([-0.00848859,  0.00524258]),\n",
       " 'no': -0.040654552179781499,\n",
       " 'not': array([ 0.04251987,  0.03897459,  0.05506154,  0.01976057,  0.05264977,\n",
       "         0.03657373,  0.03320211,  0.05042824,  0.05681126,  0.03873788,\n",
       "         0.02367848,  0.0336347 ,  0.03895373,  0.05754881]),\n",
       " 'note': 0.034667286690346737,\n",
       " 'notice': -0.0090181055979135609,\n",
       " 'now': -0.024994994870008971,\n",
       " 'np': 0.016415690315829842,\n",
       " 'numpy': 0.013435314184277085,\n",
       " 'object': array([-0.04972305, -0.01214946,  0.04344955]),\n",
       " 'of': array([ 0.0163417 , -0.03343498,  0.02444587]),\n",
       " 'offense': 0.032473350912402874,\n",
       " 'on': array([ 0.00865425,  0.02837252]),\n",
       " 'only': -0.016510580892103031,\n",
       " 'or': array([-0.03541012, -0.03199535, -0.01735404]),\n",
       " 'other': -0.035796443426659934,\n",
       " 'out': array([-0.03014247, -0.0197323 ]),\n",
       " 'p': array([ 0.04607023,  0.02048009]),\n",
       " 'page': -0.022305473976969362,\n",
       " 'part': 0.0074813678994355495,\n",
       " 'perfect': 0.09596927225912999,\n",
       " 'perfectly': array([ 0.01730925,  0.02688212]),\n",
       " 'please': array([ 0.02108902, -0.02773998]),\n",
       " 'point': array([-0.0008385, -0.0109092]),\n",
       " 'polymorphism': -0.024100768632411267,\n",
       " 'possible': -0.024760656354830466,\n",
       " 'possibly': 0.025925689331974019,\n",
       " 'prefer': 0.06059953232065015,\n",
       " 'prevent': 0.020447171076348108,\n",
       " 'prevents': -0.01323032448833702,\n",
       " 'problem': -0.020965360031688852,\n",
       " 'problems': 0.0090949721775977505,\n",
       " 'process': array([-0.06854016, -0.03043945]),\n",
       " 'prohibited': 0.050185620473406141,\n",
       " 'promotes': 0.046899989522814031,\n",
       " 'proper': 0.050882044356354114,\n",
       " 'python': array([ 0.02333077,  0.04898896,  0.05338628,  0.05206102,  0.05273803,\n",
       "        -0.02053385,  0.1418551 ,  0.02386451]),\n",
       " 'pythonic': 0.11194637263746457,\n",
       " 'question': array([-0.01933969, -0.01095334,  0.03932416]),\n",
       " 'questions': 0.031856390019796836,\n",
       " 'raised': 0.033653451954368523,\n",
       " 'range': 0.013626562699645389,\n",
       " 'rational': 0.055145726248226785,\n",
       " 're': array([ 0.03823061,  0.0203346 ]),\n",
       " 'read': array([ 0.04468999,  0.03620771]),\n",
       " 'readable': 0.068374193118109994,\n",
       " 'reading': 0.027430570307714883,\n",
       " 'reason': array([ 0.0089427 ,  0.03087345]),\n",
       " 'recognizing': -0.023102401995580623,\n",
       " 'related': -0.0086604968176143531,\n",
       " 'remarkably': 0.075192610798269138,\n",
       " 'removed': -0.017016069483919767,\n",
       " 'requires': -0.029154565980859515,\n",
       " 'rest': 0.009590266063319218,\n",
       " 'right': -0.019135299545859401,\n",
       " 'row': -0.024349597655049598,\n",
       " 's': array([ 0.02572142,  0.01676384, -0.05451032, -0.0216058 ,  0.04237371,\n",
       "        -0.05445905, -0.02199401, -0.03214063,  0.06304672,  0.12423685,\n",
       "         0.02579422]),\n",
       " 'said': -0.059390987258999418,\n",
       " 'scott': array([-0.06071615, -0.11734531, -0.12180257, -0.09074798]),\n",
       " 'second': -0.021192453492791318,\n",
       " 'see': -0.03383050851249729,\n",
       " 'seem': 0.022762848214414898,\n",
       " 'server': -0.021722607612683659,\n",
       " 'should': 0.022869376368577186,\n",
       " 'shouldn': -0.016316922409843844,\n",
       " 'single': -0.064098209119958505,\n",
       " 'so': array([-0.00726998, -0.03410438, -0.0392264 , -0.0928042 , -0.08451631,\n",
       "        -0.07032697, -0.0526956 ]),\n",
       " 'solution': -0.027342166955450341,\n",
       " 'some': array([-0.01821452, -0.042884  ]),\n",
       " 'somebody': 0.032307616828030426,\n",
       " 'someone': 0.027448328260853277,\n",
       " 'sometimes': -0.034035595475654032,\n",
       " 'special': array([-0.03781431, -0.01115557]),\n",
       " 'specially': -0.030557678046606213,\n",
       " 'split': 0.019775303261023253,\n",
       " 'stackoverflow': 0.07227361577144148,\n",
       " 'stage': -0.045459162754512422,\n",
       " 'start': 0.043065456825968192,\n",
       " 'statement': array([ 0.01213814,  0.03549175]),\n",
       " 'statements': 0.071215030669543405,\n",
       " 'still': -0.10429664762535992,\n",
       " 'strong': 0.037102512405679432,\n",
       " 'stupid': array([ 0.08390979,  0.0403351 ]),\n",
       " 'subclass': 0.038461595765487251,\n",
       " 'sure': -0.012297968941823969,\n",
       " 't': array([ 0.01665541,  0.0518176 ,  0.00836645, -0.01584999,  0.04214126,\n",
       "         0.01128796, -0.01121368]),\n",
       " 'taken': array([ 0.02020718, -0.00603073, -0.05246046]),\n",
       " 'technically': 0.032335627938580802,\n",
       " 'terms': array([ 0.02715909,  0.01844495]),\n",
       " 'test': -0.050218203855390268,\n",
       " 'than': 0.025560532124500764,\n",
       " 'thanks': array([-0.06882714, -0.1107292 ]),\n",
       " 'that': array([-0.01341732, -0.03234641, -0.03611078, -0.06147329, -0.02321452,\n",
       "        -0.02306928, -0.01761799, -0.02210229, -0.02470758, -0.01498531]),\n",
       " 'the': array([ 0.01966618, -0.03256004, -0.03580917,  0.00547711, -0.01522605,\n",
       "        -0.02597516, -0.02881091, -0.03036517, -0.02061294, -0.03910494,\n",
       "        -0.01127117, -0.03021238, -0.02389896, -0.02319215, -0.05535725,\n",
       "        -0.03679474, -0.03279668, -0.03311619, -0.0087186 , -0.0221178 ,\n",
       "        -0.01364879]),\n",
       " 'there': array([-0.084779  , -0.06547561]),\n",
       " 'think': array([ 0.02646533,  0.04134915,  0.01653374, -0.04414938]),\n",
       " 'this': array([-0.03664529,  0.02561171,  0.00396891, -0.049124  , -0.01850834,\n",
       "        -0.02862526, -0.02111524,  0.04955922, -0.01631269, -0.07090629,\n",
       "         0.06101956]),\n",
       " 'though': array([-0.08919756, -0.00958874]),\n",
       " 'through': array([-0.03189476, -0.0264183 , -0.01006448]),\n",
       " 'throw': 0.013662396389842122,\n",
       " 'to': array([-0.01233981, -0.02165538, -0.0199883 , -0.02118318, -0.02698692,\n",
       "        -0.02525104, -0.00933744, -0.05197341,  0.02079804, -0.03908673,\n",
       "        -0.08154412, -0.03528512, -0.05877641, -0.0229611 ]),\n",
       " 'too': 0.021842497799989525,\n",
       " 'totally': 0.015522912942517826,\n",
       " 'trivially': 0.038686943907979374,\n",
       " 'true': array([ 0.04034776,  0.05463554,  0.11946741,  0.04788056]),\n",
       " 'truth': 0.028975341910108039,\n",
       " 'try': array([-0.02577378,  0.02425462,  0.01482959]),\n",
       " 'type': array([ 0.02533187,  0.01067587,  0.0186128 ,  0.0474559 ,  0.05792724,\n",
       "         0.01987571,  0.01181024,  0.02101386]),\n",
       " 'typed': 0.037511920535560128,\n",
       " 'typeerror': array([ 0.01918426, -0.02627394]),\n",
       " 'types': 0.016465940952526074,\n",
       " 'typing': 0.021597645796062191,\n",
       " 'up': -0.013903744892386037,\n",
       " 'use': array([ 0.03704398,  0.05494775,  0.04301038,  0.04833713,  0.02556698]),\n",
       " 'user': -0.07575314145789154,\n",
       " 'using': -0.0097497292051224854,\n",
       " 'valid': array([ 0.05026228,  0.01530626]),\n",
       " 'valueerror': 0.065787375173657944,\n",
       " 'var': -0.057291251086040398,\n",
       " 've': -0.055821875986655348,\n",
       " 'very': 0.038236834750154915,\n",
       " 'want': 0.011515349424414727,\n",
       " 'was': array([-0.00650586, -0.07322452]),\n",
       " 'well': -0.059572461899841,\n",
       " 'what': -0.036311694839831564,\n",
       " 'why': array([ 0.03188525,  0.05468522,  0.01543783]),\n",
       " 'will': -0.004825352164031663,\n",
       " 'with': array([-0.01463513, -0.01951264]),\n",
       " 'without': 0.027348727352670268,\n",
       " 'wonder': 0.023094620913029149,\n",
       " 'work': -0.036211896453576101,\n",
       " 'works': array([-0.05559689, -0.10955814]),\n",
       " 'would': 0.021911547944239069,\n",
       " 'writing': 0.036831669936207741,\n",
       " 'x': array([ 0.03190907,  0.04355885,  0.05391923,  0.0751855 ,  0.0208074 ,\n",
       "         0.03842165,  0.07878355]),\n",
       " 'yes': -0.092977771412851587,\n",
       " 'you': array([ 0.05647495,  0.03641967,  0.02396233,  0.02346344,  0.05416179,\n",
       "         0.04519955,  0.03622995,  0.0243318 ,  0.06066498,  0.0052031 ,\n",
       "         0.05404701,  0.08554484,  0.03719181,  0.0673262 ,  0.00706782,\n",
       "         0.03824898,  0.03666262,  0.04630682,  0.05080079,  0.01519019,\n",
       "         0.03976532,  0.05957189,  0.07348628,  0.06178461,  0.02385133,\n",
       "         0.02270651,  0.02508799]),\n",
       " 'your': array([ 0.02714829, -0.03285973,  0.06394031])}"
      ]
     },
     "execution_count": 156,
     "metadata": {},
     "output_type": "execute_result"
    }
   ],
   "source": [
    "word_dict"
   ]
  },
  {
   "cell_type": "code",
   "execution_count": 117,
   "metadata": {
    "collapsed": false
   },
   "outputs": [
    {
     "data": {
      "text/plain": [
       "['@hulk: you seem to be under the impression that type is the right way to do this.',\n",
       " 'it is (almost certainly) not.']"
      ]
     },
     "execution_count": 117,
     "metadata": {},
     "output_type": "execute_result"
    }
   ],
   "source": [
    "items"
   ]
  },
  {
   "cell_type": "code",
   "execution_count": 114,
   "metadata": {
    "collapsed": false
   },
   "outputs": [
    {
     "data": {
      "text/plain": [
       "{'canonical': 0.033773051465441559,\n",
       " 'check': -0.071724063087750436,\n",
       " 'duplicate': 0.039175234219797961,\n",
       " 'possible': -0.024375775445865035,\n",
       " 'python': 0.023019418089235359,\n",
       " 's': 0.026437705602720015,\n",
       " 'seem': 0.023015186501761417,\n",
       " 'that': -0.0129267123790195,\n",
       " 'this': -0.036796228488811485,\n",
       " 'to': -0.01281247016068549,\n",
       " 'way': 0.01404254601200421,\n",
       " 'you': 0.056372161126580327}"
      ]
     },
     "execution_count": 114,
     "metadata": {},
     "output_type": "execute_result"
    }
   ],
   "source": [
    "word_dict"
   ]
  },
  {
   "cell_type": "markdown",
   "metadata": {},
   "source": [
    "## checking out what the data lime wants"
   ]
  },
  {
   "cell_type": "code",
   "execution_count": 55,
   "metadata": {
    "collapsed": false
   },
   "outputs": [
    {
     "name": "stderr",
     "output_type": "stream",
     "text": [
      "Downloading dataset from http://people.csail.mit.edu/jrennie/20Newsgroups/20news-bydate.tar.gz (14 MB)\n"
     ]
    },
    {
     "data": {
      "text/plain": [
       "'From: johnchad@triton.unm.edu (jchadwic)\\nSubject: Another request for Darwin Fish\\nOrganization: University of New Mexico, Albuquerque\\nLines: 11\\nNNTP-Posting-Host: triton.unm.edu\\n\\nHello Gang,\\n\\nThere have been some notes recently asking where to obtain the DARWIN fish.\\nThis is the same question I have and I have not seen an answer on the\\nnet. If anyone has a contact please post on the net or email me.\\n\\nThanks,\\n\\njohn chadwick\\njohnchad@triton.unm.edu\\nor\\n'"
      ]
     },
     "execution_count": 55,
     "metadata": {},
     "output_type": "execute_result"
    }
   ],
   "source": [
    "#http://marcotcr.github.io/lime/tutorials/Lime%20-%20basic%20usage%2C%20two%20class%20case.html\n",
    "from sklearn.datasets import fetch_20newsgroups\n",
    "categories = ['alt.atheism', 'soc.religion.christian']\n",
    "newsgroups_train = fetch_20newsgroups(subset='train', categories=categories)\n",
    "newsgroups_test = fetch_20newsgroups(subset='test', categories=categories)\n",
    "class_names = ['atheism', 'christian']\n",
    "newsgroups_test.data[83]"
   ]
  },
  {
   "cell_type": "code",
   "execution_count": 71,
   "metadata": {
    "collapsed": false
   },
   "outputs": [
    {
     "name": "stdout",
     "output_type": "stream",
     "text": [
      "[[ 0.29  0.71]]\n"
     ]
    },
    {
     "name": "stderr",
     "output_type": "stream",
     "text": [
      "/home/dan-laptop/anaconda3/envs/insight/lib/python3.5/re.py:203: FutureWarning: split() requires a non-empty pattern match.\n",
      "  return _compile(pattern, flags).split(string, maxsplit)\n"
     ]
    },
    {
     "name": "stdout",
     "output_type": "stream",
     "text": [
      "Document id: 83\n",
      "Probability(christian) = 0.446\n",
      "True class: unhelpful\n"
     ]
    }
   ],
   "source": [
    "import lime\n",
    "import sklearn\n",
    "import numpy as np\n",
    "import sklearn\n",
    "import sklearn.ensemble\n",
    "import sklearn.metrics\n",
    "from __future__ import print_function\n",
    "\n",
    "vectorizer = sklearn.feature_extraction.text.TfidfVectorizer(lowercase=False)\n",
    "train_vectors = vectorizer.fit_transform(newsgroups_train.data)\n",
    "test_vectors = vectorizer.transform(newsgroups_test.data)\n",
    "\n",
    "rf = sklearn.ensemble.RandomForestClassifier(n_estimators=500)\n",
    "rf.fit(train_vectors, newsgroups_train.target)\n",
    "\n",
    "from lime import lime_text\n",
    "from sklearn.pipeline import make_pipeline\n",
    "c = make_pipeline(vectorizer, rf)\n",
    "\n",
    "print(c.predict_proba([newsgroups_test.data[0]]))\n",
    "\n",
    "from lime.lime_text import LimeTextExplainer\n",
    "explainer = LimeTextExplainer(class_names=class_names)\n",
    "\n",
    "idx = 83\n",
    "exp = explainer.explain_instance(newsgroups_test.data[idx], c.predict_proba, num_features=6)\n",
    "print('Document id: %d' % idx)\n",
    "print('Probability(christian) =', c.predict_proba([newsgroups_test.data[idx]])[0,1])\n",
    "print('True class: %s' % class_names[newsgroups_test.target[idx]])\n"
   ]
  },
  {
   "cell_type": "code",
   "execution_count": null,
   "metadata": {
    "collapsed": true
   },
   "outputs": [],
   "source": []
  }
 ],
 "metadata": {
  "anaconda-cloud": {},
  "kernelspec": {
   "display_name": "Python [conda env:insight]",
   "language": "python",
   "name": "conda-env-insight-py"
  },
  "language_info": {
   "codemirror_mode": {
    "name": "ipython",
    "version": 3
   },
   "file_extension": ".py",
   "mimetype": "text/x-python",
   "name": "python",
   "nbconvert_exporter": "python",
   "pygments_lexer": "ipython3",
   "version": "3.5.2"
  }
 },
 "nbformat": 4,
 "nbformat_minor": 1
}
