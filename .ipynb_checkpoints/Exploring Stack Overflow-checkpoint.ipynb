{
 "cells": [
  {
   "cell_type": "markdown",
   "metadata": {},
   "source": [
    "## Import Libraries and get stockoverflow library set up to make api requests"
   ]
  },
  {
   "cell_type": "code",
   "execution_count": 1,
   "metadata": {
    "collapsed": true
   },
   "outputs": [],
   "source": [
    "import stackexchange\n",
    "import seaborn as sns\n",
    "import matplotlib.pyplot as plt\n",
    "import pandas as pd\n",
    "\n",
    "api_key = '5*wCDZgONnIJ*aiaYeKjQQ(('\n",
    "\n",
    "so = stackexchange.Site(stackexchange.StackOverflow,api_key)\n",
    "so.be_inclusive()\n",
    "so.impose_throttling = True\n",
    "so.throttle_stop = False"
   ]
  },
  {
   "cell_type": "markdown",
   "metadata": {},
   "source": [
    "## Get score of X number of questions on topic Y"
   ]
  },
  {
   "cell_type": "markdown",
   "metadata": {},
   "source": [
    "a lingering question is how the score is calculated. I should look into this more. Also I am not sure I understand the page size variable [this link](https://github.com/lucjon/Py-StackExchange) suggests that its batching requests. something to look into though. "
   ]
  },
  {
   "cell_type": "code",
   "execution_count": null,
   "metadata": {
    "collapsed": true
   },
   "outputs": [],
   "source": [
    "count = 0\n",
    "samples = 5000\n",
    "scores = []\n",
    "for question in so.questions(tagged=['python','numpy'], pagesize=10):\n",
    "    #print(question)\n",
    "    assert 'python' in question.tags\n",
    "    \n",
    "    scores.append(question.score)\n",
    "    count +=1\n",
    "    if count % 500 == 0: print(count)\n",
    "    if count == samples:break\n",
    "\n",
    "sns.distplot(scores,kde=False)\n",
    "plt.show()"
   ]
  },
  {
   "cell_type": "markdown",
   "metadata": {},
   "source": [
    "## Get score of X number of *answers* on topic Y"
   ]
  },
  {
   "cell_type": "code",
   "execution_count": null,
   "metadata": {
    "collapsed": true
   },
   "outputs": [],
   "source": [
    "count = 0\n",
    "samples = 5000\n",
    "answer_scores = []\n",
    "q_object = so.questions(tagged=['python','numpy'], pagesize=10)\n",
    "for question in q_object:\n",
    "    #print(question)\n",
    "    assert 'python' in question.tags\n",
    "    \n",
    "    if question.json['answer_count'] > 0:\n",
    "        for answers in question.json['answers']:\n",
    "            answer_scores.append(answers['score'])\n",
    "            count +=1\n",
    "            if count % 500 == 0: print(count)\n",
    "            if count == samples:break\n",
    "    if count == samples:break\n",
    "\n",
    "sns.distplot(answer_scores,kde=False)\n",
    "plt.show()"
   ]
  },
  {
   "cell_type": "markdown",
   "metadata": {},
   "source": [
    "## Score of Questions and the score of each questions best answer"
   ]
  },
  {
   "cell_type": "code",
   "execution_count": null,
   "metadata": {
    "collapsed": true
   },
   "outputs": [],
   "source": [
    "count = 0\n",
    "samples =5000\n",
    "answer_scores = []\n",
    "scores = []\n",
    "for question in so.questions(tagged=['python','numpy'], pagesize=10):\n",
    "    #print(question)\n",
    "    assert 'python' in question.tags\n",
    "    \n",
    "    if question.json['answer_count'] > 0:\n",
    "        scores.append(question.score)\n",
    "        count +=1\n",
    "        \n",
    "        temp_answer = -1000\n",
    "        for answers in question.json['answers']:\n",
    "                if answers['score'] > temp_answer: \n",
    "                    temp_answer = answers['score'] \n",
    "            \n",
    "        answer_scores.append(temp_answer)\n",
    "        \n",
    "        if count % 500 == 0: print(count)\n",
    "        if count == samples:break\n",
    "        \n",
    "\n",
    "\n",
    "df = pd.DataFrame([scores,answer_scores],columns=['Question Scores', 'Answer Scores'])\n",
    "g = sns.jointplot(\"Question Scores\", \"Answer Scores\", data=df, kind=\"reg\")\n",
    "plt.show()"
   ]
  },
  {
   "cell_type": "markdown",
   "metadata": {},
   "source": [
    "# TO DO\n",
    "\n",
    "1. a main goal here is to think about what the end product should look like (aesthetically and product wise)\n",
    "2. look into basic NLP methods (bag of words) and these should find good comments/questions/answers\n",
    "3. text summarization\n",
    "4. what is the goal of this summarization\n",
    "5. how to deal with the code in the NLP???\n",
    "6. would it be possible to link to the relevant documentation??"
   ]
  },
  {
   "cell_type": "markdown",
   "metadata": {},
   "source": [
    "### Thoughts\n",
    "* USE VIEW COUNT IN THE TRAINING LOSS FUNCTION!! This is important!\n",
    "\n",
    "#### Thoughts about tag search in stack overflow\n",
    "* You can search multiple tags on stackoverflow. Use [numpy] [python] in search bar. \n",
    "* hard to do\n",
    "* recommend tags??? This could be a lot\n",
    "* titles are pretty good.... maybe i can do better?\n",
    "* summaries suck\n",
    "* have to click link to get answer. \n",
    "* would be nice to exclude things that are far off topic (computer vision when want just numpy basic)...\n",
    "* can use related tags on side to add additional tags..."
   ]
  },
  {
   "cell_type": "markdown",
   "metadata": {},
   "source": [
    "## Looking at a specific question"
   ]
  },
  {
   "cell_type": "code",
   "execution_count": 5,
   "metadata": {
    "collapsed": true
   },
   "outputs": [],
   "source": [
    "q_id = 30339155\n",
    "question = so.question(q_id)"
   ]
  },
  {
   "cell_type": "code",
   "execution_count": 6,
   "metadata": {
    "collapsed": false,
    "scrolled": false
   },
   "outputs": [
    {
     "data": {
      "text/plain": [
       "{'_params_': {'body': 'true',\n",
       "  'comments': 'true',\n",
       "  'filter': '_bca',\n",
       "  'site': 'stackoverflow.com'},\n",
       " 'accepted_answer_id': 30339504,\n",
       " 'answer_count': 2,\n",
       " 'answers': [{'answer_id': 30339504,\n",
       "   'body': '<p>Using numpy <code>np.concatenate()</code> this way should work </p>\\n\\n<pre><code> a3 = np.concatenate((a1,a2),axis = 1)\\n</code></pre>\\n',\n",
       "   'creation_date': 1432090502,\n",
       "   'is_accepted': True,\n",
       "   'last_activity_date': 1432092092,\n",
       "   'last_edit_date': 1432092092,\n",
       "   'owner': {'accept_rate': 74,\n",
       "    'display_name': 'farhawa',\n",
       "    'link': 'http://stackoverflow.com/users/4759209/farhawa',\n",
       "    'profile_image': 'https://www.gravatar.com/avatar/ff821860933d0565fe62aed9fe2132f7?s=128&d=identicon&r=PG&f=1',\n",
       "    'reputation': 2463,\n",
       "    'user_id': 4759209,\n",
       "    'user_type': 'registered'},\n",
       "   'question_id': 30339155,\n",
       "   'score': 1},\n",
       "  {'answer_id': 30342080,\n",
       "   'body': '<p><code>np.c_[a1, a2]</code></p>\\n\\n<p>also a <code>np.r_</code> for row-wise merging.</p>\\n',\n",
       "   'creation_date': 1432104036,\n",
       "   'is_accepted': False,\n",
       "   'last_activity_date': 1432104036,\n",
       "   'owner': {'display_name': 'nanoix9',\n",
       "    'link': 'http://stackoverflow.com/users/4622951/nanoix9',\n",
       "    'profile_image': 'https://i.stack.imgur.com/7PycO.jpg?s=128&g=1',\n",
       "    'reputation': 454,\n",
       "    'user_id': 4622951,\n",
       "    'user_type': 'registered'},\n",
       "   'question_id': 30339155,\n",
       "   'score': 1}],\n",
       " 'body': '<pre><code>a1=array([[0, 1, 2, 3, 4],\\n   [5, 6, 7, 8, 9]])\\na2=array([[0, 1],\\n   [2, 3]])\\na3 = array([[0, 1, 2, 3, 4, 0, 1],\\n   [5, 6, 7, 8, 9, 2, 3]])\\n</code></pre>\\n\\n<p>I have two arrays a1,a2，I want to merge them together.the result is a3</p>\\n',\n",
       " 'comments': [{'body': 'See <a href=\"http://stackoverflow.com/q/5355744/1761793\">Numpy: Joining structured arrays?</a>',\n",
       "   'comment_id': 48772216,\n",
       "   'creation_date': 1432088499,\n",
       "   'edited': False,\n",
       "   'owner': {'accept_rate': 91,\n",
       "    'display_name': 'Ajoy',\n",
       "    'link': 'http://stackoverflow.com/users/1761793/ajoy',\n",
       "    'profile_image': 'https://i.stack.imgur.com/gyDPQ.jpg?s=128&g=1',\n",
       "    'reputation': 1302,\n",
       "    'user_id': 1761793,\n",
       "    'user_type': 'registered'},\n",
       "   'post_id': 30339155,\n",
       "   'score': 0},\n",
       "  {'body': 'Also, <a href=\"http://stackoverflow.com/q/21887754/1761793\">Concatenate two arrays vertically</a> has your answer in the question itself.',\n",
       "   'comment_id': 48772339,\n",
       "   'creation_date': 1432088892,\n",
       "   'edited': False,\n",
       "   'owner': {'accept_rate': 91,\n",
       "    'display_name': 'Ajoy',\n",
       "    'link': 'http://stackoverflow.com/users/1761793/ajoy',\n",
       "    'profile_image': 'https://i.stack.imgur.com/gyDPQ.jpg?s=128&g=1',\n",
       "    'reputation': 1302,\n",
       "    'user_id': 1761793,\n",
       "    'user_type': 'registered'},\n",
       "   'post_id': 30339155,\n",
       "   'score': 0}],\n",
       " 'creation_date': 1432087959,\n",
       " 'is_answered': True,\n",
       " 'last_activity_date': 1432104036,\n",
       " 'link': 'http://stackoverflow.com/questions/30339155/merge-numpy-array-together',\n",
       " 'owner': {'accept_rate': 78,\n",
       "  'display_name': 'CCIEGZM',\n",
       "  'link': 'http://stackoverflow.com/users/4918531/cciegzm',\n",
       "  'profile_image': 'https://www.gravatar.com/avatar/747cd422751416841b55da094c12eb6c?s=128&d=identicon&r=PG&f=1',\n",
       "  'reputation': 50,\n",
       "  'user_id': 4918531,\n",
       "  'user_type': 'registered'},\n",
       " 'question_id': 30339155,\n",
       " 'score': 2,\n",
       " 'tags': ['python-2.7', 'numpy'],\n",
       " 'title': 'merge numpy array together',\n",
       " 'view_count': 131}"
      ]
     },
     "execution_count": 6,
     "metadata": {},
     "output_type": "execute_result"
    }
   ],
   "source": [
    "question.json"
   ]
  },
  {
   "cell_type": "code",
   "execution_count": 4,
   "metadata": {
    "collapsed": false
   },
   "outputs": [
    {
     "data": {
      "text/plain": [
       "\"<p>I tried the following:</p>\\n\\n<pre><code>&gt;&gt;&gt; a = np.array([1,2,3])\\n&gt;&gt;&gt; b = np.array([4,5,6])\\n&gt;&gt;&gt; np.concatenate((a,b), axis=0)\\narray([1, 2, 3, 4, 5, 6])\\n&gt;&gt;&gt; np.concatenate((a,b), axis=1)\\narray([1, 2, 3, 4, 5, 6])\\n</code></pre>\\n\\n<p>However, I'd expect at least that one result looks like this</p>\\n\\n<pre><code>array([[1, 2, 3],\\n       [4, 5, 6]])\\n</code></pre>\\n\\n<p>Why is it not concatenated vertically?</p>\\n\""
      ]
     },
     "execution_count": 4,
     "metadata": {},
     "output_type": "execute_result"
    }
   ],
   "source": [
    "question.body"
   ]
  },
  {
   "cell_type": "code",
   "execution_count": 7,
   "metadata": {
    "collapsed": false
   },
   "outputs": [
    {
     "ename": "AttributeError",
     "evalue": "'Question' object has no attribute 'stats'",
     "output_type": "error",
     "traceback": [
      "\u001b[0;31m---------------------------------------------------------------------------\u001b[0m",
      "\u001b[0;31mAttributeError\u001b[0m                            Traceback (most recent call last)",
      "\u001b[0;32m<ipython-input-7-604547836985>\u001b[0m in \u001b[0;36m<module>\u001b[0;34m()\u001b[0m\n\u001b[0;32m----> 1\u001b[0;31m \u001b[0mquestion\u001b[0m\u001b[0;34m.\u001b[0m\u001b[0mstats\u001b[0m\u001b[0;34m\u001b[0m\u001b[0m\n\u001b[0m",
      "\u001b[0;31mAttributeError\u001b[0m: 'Question' object has no attribute 'stats'"
     ]
    }
   ],
   "source": [
    "question.stats"
   ]
  },
  {
   "cell_type": "code",
   "execution_count": null,
   "metadata": {
    "collapsed": true
   },
   "outputs": [],
   "source": []
  }
 ],
 "metadata": {
  "anaconda-cloud": {},
  "kernelspec": {
   "display_name": "Python [conda env:insight]",
   "language": "python",
   "name": "conda-env-insight-py"
  },
  "language_info": {
   "codemirror_mode": {
    "name": "ipython",
    "version": 3
   },
   "file_extension": ".py",
   "mimetype": "text/x-python",
   "name": "python",
   "nbconvert_exporter": "python",
   "pygments_lexer": "ipython3",
   "version": "3.5.2"
  }
 },
 "nbformat": 4,
 "nbformat_minor": 1
}
